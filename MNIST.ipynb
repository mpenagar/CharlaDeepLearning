{
 "cells": [
  {
   "cell_type": "markdown",
   "metadata": {},
   "source": [
    "<h1><font size=\"+4\"><center>\n",
    "    Casos prácticos de modelado <br/>\n",
    "    mediante redes neuronales <br/>\n",
    "    usando TensorFlow<center/></font><h1/>\n",
    "    \n",
    "<img src=\"img/Ecosystem.png\" alt=\"Ecosystem\" style=\"width: 600px;\"/>"
   ]
  },
  {
   "cell_type": "code",
   "execution_count": 1,
   "metadata": {
    "hide_input": true
   },
   "outputs": [
    {
     "data": {
      "text/html": [
       "<style>.container { width:90% !important; }</style>"
      ],
      "text/plain": [
       "<IPython.core.display.HTML object>"
      ]
     },
     "metadata": {},
     "output_type": "display_data"
    }
   ],
   "source": [
    "# increase the cell width of the Jupyter notebook in the browser\n",
    "# https://stackoverflow.com/questions/21971449/how-do-i-increase-the-cell-width-of-the-jupyter-ipython-notebook-in-my-browser\n",
    "from IPython.core.display import display, HTML\n",
    "display(HTML(\"<style>.container { width:90% !important; }</style>\"))"
   ]
  },
  {
   "cell_type": "code",
   "execution_count": 2,
   "metadata": {
    "hide_input": true,
    "scrolled": false
   },
   "outputs": [
    {
     "data": {
      "text/html": [
       "<iframe src='http://yann.lecun.com/exdb/mnist', width=100%, height=400></iframe>\n"
      ],
      "text/plain": [
       "<IPython.core.display.HTML object>"
      ]
     },
     "metadata": {},
     "output_type": "display_data"
    }
   ],
   "source": [
    "%%html\n",
    "<iframe src='http://yann.lecun.com/exdb/mnist', width=100%, height=400></iframe>"
   ]
  },
  {
   "cell_type": "markdown",
   "metadata": {},
   "source": [
    "![MNIST DataBase](https://upload.wikimedia.org/wikipedia/commons/2/27/MnistExamples.png \"MNIST DataBase\")"
   ]
  },
  {
   "cell_type": "markdown",
   "metadata": {},
   "source": [
    "## TensorFlow 2.0\n",
    "\n",
    "El código que se muestra a continuación está basado en TensorFlow 2.0. Mucho del contenido de este cuaderno está también disponible en la [Guia inicial de TensorFlow 2.0 para principiantes](https://www.tensorflow.org/tutorials/quickstart/beginner)."
   ]
  },
  {
   "cell_type": "code",
   "execution_count": 3,
   "metadata": {},
   "outputs": [
    {
     "data": {
      "text/plain": [
       "'2.0.0'"
      ]
     },
     "execution_count": 3,
     "metadata": {},
     "output_type": "execute_result"
    }
   ],
   "source": [
    "import tensorflow as tf\n",
    "tf.__version__"
   ]
  },
  {
   "cell_type": "markdown",
   "metadata": {},
   "source": [
    "## Descarga y análisis de la base de datos\n",
    "\n",
    "TensorFlow incorpora un sencillo mecanismo para descargar la Base de Datos MNIST:  "
   ]
  },
  {
   "cell_type": "code",
   "execution_count": 4,
   "metadata": {},
   "outputs": [],
   "source": [
    "(x_train, y_train), (x_test, y_test) = tf.keras.datasets.mnist.load_data()"
   ]
  },
  {
   "cell_type": "markdown",
   "metadata": {},
   "source": [
    "La base de datos está compuesta por 60.000 muestras de entrenamiento (`x_train`), 10.000 de test (`x_test`) y sus correspondientes etiquetas (`y_train` e `y_test`). Cada muestra representa una imagen de 28x28 píxeles. Las muestras y las etiquetas descargadas están guardadas en arrays n-dimensionales de `numpy`:"
   ]
  },
  {
   "cell_type": "code",
   "execution_count": 5,
   "metadata": {},
   "outputs": [
    {
     "name": "stdout",
     "output_type": "stream",
     "text": [
      "<class 'numpy.ndarray'> (60000, 28, 28)\n",
      "<class 'numpy.ndarray'> (60000,)\n",
      "<class 'numpy.ndarray'> (10000, 28, 28)\n",
      "<class 'numpy.ndarray'> (10000,)\n"
     ]
    }
   ],
   "source": [
    "for x in (x_train, y_train, x_test, y_test) :\n",
    "    print(type(x),x.shape)"
   ]
  },
  {
   "cell_type": "markdown",
   "metadata": {},
   "source": [
    "Mediante el módulo `matplotlib` podemos visualizar el contenido de las primeras 10 muestras de entrenamiento, así como sus respectivas etiquetas:"
   ]
  },
  {
   "cell_type": "code",
   "execution_count": 6,
   "metadata": {},
   "outputs": [
    {
     "data": {
      "image/png": "[encoded data removed]",
      "text/plain": [
       "<Figure size 432x288 with 10 Axes>"
      ]
     },
     "metadata": {
      "needs_background": "light"
     },
     "output_type": "display_data"
    }
   ],
   "source": [
    "import matplotlib.pyplot as plt\n",
    "\n",
    "%matplotlib inline\n",
    "plt.figure()\n",
    "for i in range(10):  \n",
    "    plt.subplot(2, 5, i+1)\n",
    "    plt.title(y_train[i])\n",
    "    f = plt.imshow(x_train[i])\n",
    "    f.axes.get_xaxis().set_visible(False)\n",
    "    f.axes.get_yaxis().set_visible(False)\n",
    "plt.show()"
   ]
  },
  {
   "cell_type": "markdown",
   "metadata": {},
   "source": [
    "## Adecuación/preparación de los datos\n",
    "\n",
    "Las imágenes están compuestas por números enteros que representan una escala de grises (`0`: blanco, `255`:negro). El rango real `[0,1]` es mucho más adecuado, por lo que normalizamos los datos:"
   ]
  },
  {
   "cell_type": "code",
   "execution_count": 7,
   "metadata": {},
   "outputs": [
    {
     "name": "stdout",
     "output_type": "stream",
     "text": [
      "0 255 0 255\n",
      "0.0 1.0 0.0 1.0\n"
     ]
    }
   ],
   "source": [
    "print(x_train.min(),x_train.max(),x_test.min(),x_test.max())\n",
    "x_train = x_train / 255\n",
    "x_test = x_test / 255\n",
    "print(x_train.min(),x_train.max(),x_test.min(),x_test.max())"
   ]
  },
  {
   "cell_type": "markdown",
   "metadata": {},
   "source": [
    "Reparticionaremos el conjunto de entrenamiento, reservando el 10% de los datos para validación (monitorización del entrenamiento):"
   ]
  },
  {
   "cell_type": "code",
   "execution_count": 8,
   "metadata": {},
   "outputs": [],
   "source": [
    "from sklearn.model_selection import train_test_split\n",
    "\n",
    "x_train, x_val, y_train, y_val = train_test_split(x_train, y_train, test_size = 0.1, random_state=42)"
   ]
  },
  {
   "cell_type": "markdown",
   "metadata": {},
   "source": [
    "Agruparemos todos los datos en una única variable"
   ]
  },
  {
   "cell_type": "code",
   "execution_count": 9,
   "metadata": {},
   "outputs": [
    {
     "name": "stdout",
     "output_type": "stream",
     "text": [
      "input_shape = (28, 28)\n",
      "output_categories = 10\n",
      "x_train (54000, 28, 28)\n",
      "y_train (54000,)\n",
      "x_val (6000, 28, 28)\n",
      "y_val (6000,)\n",
      "x_test (10000, 28, 28)\n",
      "y_test (10000,)\n"
     ]
    }
   ],
   "source": [
    "from collections import namedtuple\n",
    "\n",
    "Data = namedtuple('Data', 'input_shape output_categories x_train y_train x_val y_val x_test y_test')\n",
    "data = Data(x_train.shape[1:], y_train.max()+1, \n",
    "            x_train, y_train, \n",
    "            x_val, y_val, \n",
    "            x_test, y_test)\n",
    "\n",
    "for name,value in zip(data._fields, data) :\n",
    "    if name == 'input_shape' or name == 'output_categories':\n",
    "        print(name,'=',value)\n",
    "    else :\n",
    "        print(name,value.shape)"
   ]
  },
  {
   "cell_type": "markdown",
   "metadata": {},
   "source": [
    "## Primer modelo: Regresión Logística Multiclase\n",
    "\n",
    "Uno de los modelos más sencillos a implementar es una regresión logística multiclase.\n",
    "\n",
    "<!--\n",
    "![alt text](img/lr.jpg)\n",
    "-->\n",
    "\n",
    "<img src=\"img/lr.jpg\" alt=\"Global Average Pooling\" style=\"width: 400px;\"/>\n",
    "\n",
    "\n",
    "El modelo se compone de:\n",
    "\n",
    "   1. `Flatten` : Conversión de las matrices $M$ de entrada de `28x28` en vectores $x$ de `784` componentes.\n",
    "   1. `Dense` :  Transformación afín $y = A \\cdot x + b$ con activación _softmax_ :\n",
    "   \n",
    "       &emsp;&emsp;&emsp;&emsp;$z_i = exp(y_i)/\\sum_{j}^{ }exp(y_j))$\n",
    "   \n"
   ]
  },
  {
   "cell_type": "code",
   "execution_count": 10,
   "metadata": {},
   "outputs": [],
   "source": [
    "from tensorflow.keras.models import Sequential\n",
    "from tensorflow.keras.layers import Dense, Flatten\n",
    "\n",
    "def LR(data):\n",
    "    \n",
    "    model = Sequential()\n",
    "    \n",
    "    model.add(Flatten(input_shape=data.input_shape))\n",
    "    \n",
    "    model.add(Dense(data.output_categories, activation='softmax'))\n",
    "    \n",
    "    return model"
   ]
  },
  {
   "cell_type": "code",
   "execution_count": 11,
   "metadata": {},
   "outputs": [
    {
     "name": "stdout",
     "output_type": "stream",
     "text": [
      "Model: \"sequential\"\n",
      "_________________________________________________________________\n",
      "Layer (type)                 Output Shape              Param #   \n",
      "=================================================================\n",
      "flatten (Flatten)            (None, 784)               0         \n",
      "_________________________________________________________________\n",
      "dense (Dense)                (None, 10)                7850      \n",
      "=================================================================\n",
      "Total params: 7,850\n",
      "Trainable params: 7,850\n",
      "Non-trainable params: 0\n",
      "_________________________________________________________________\n"
     ]
    }
   ],
   "source": [
    "model = LR(data)\n",
    "model.summary()"
   ]
  },
  {
   "cell_type": "markdown",
   "metadata": {},
   "source": [
    "La función de pérdida (`loss`) será la [entropía cruzada](https://es.wikipedia.org/wiki/Entrop%C3%ADa_cruzada), y el optimizados escogido adam ([Adaptive Moment Estimation](https://en.wikipedia.org/wiki/Stochastic_gradient_descent#Adam)). Estamos además interesados en observar el índice de acierto, o _accuracy_ :"
   ]
  },
  {
   "cell_type": "code",
   "execution_count": 12,
   "metadata": {},
   "outputs": [],
   "source": [
    "model.compile(optimizer='adam', loss='sparse_categorical_crossentropy', metrics=['accuracy'])"
   ]
  },
  {
   "cell_type": "markdown",
   "metadata": {},
   "source": [
    "Ejecutaremos 5 iteraciones de entrenamiento, observando la evolución de los conjuntos de entrenamiento y validación:\n"
   ]
  },
  {
   "cell_type": "code",
   "execution_count": 13,
   "metadata": {
    "scrolled": true
   },
   "outputs": [
    {
     "name": "stdout",
     "output_type": "stream",
     "text": [
      "Train on 54000 samples, validate on 6000 samples\n",
      "Epoch 1/5\n",
      "54000/54000 - 6s - loss: 0.4861 - accuracy: 0.8737 - val_loss: 0.3211 - val_accuracy: 0.9115\n",
      "Epoch 2/5\n",
      "54000/54000 - 5s - loss: 0.3097 - accuracy: 0.9143 - val_loss: 0.2874 - val_accuracy: 0.9208\n",
      "Epoch 3/5\n",
      "54000/54000 - 5s - loss: 0.2878 - accuracy: 0.9192 - val_loss: 0.2756 - val_accuracy: 0.9220\n",
      "Epoch 4/5\n",
      "54000/54000 - 5s - loss: 0.2766 - accuracy: 0.9226 - val_loss: 0.2727 - val_accuracy: 0.9258\n",
      "Epoch 5/5\n",
      "54000/54000 - 6s - loss: 0.2690 - accuracy: 0.9248 - val_loss: 0.2686 - val_accuracy: 0.9245\n"
     ]
    }
   ],
   "source": [
    "train = model.fit(data.x_train, data.y_train, epochs=5, validation_data = (data.x_val, data.y_val), verbose = 2)"
   ]
  },
  {
   "cell_type": "markdown",
   "metadata": {},
   "source": [
    "La variable `train` almacena (entre otras cosas) el historial de la función de coste (`loss`) y la métrica usada (`accuracy`):"
   ]
  },
  {
   "cell_type": "code",
   "execution_count": 14,
   "metadata": {},
   "outputs": [
    {
     "name": "stdout",
     "output_type": "stream",
     "text": [
      "[0.4860796339335265, 0.30970703077316286, 0.2878235067802447, 0.2766274855600463, 0.26902652798537857]\n",
      "[0.3210533874432246, 0.2874434420665105, 0.275649048268795, 0.27269759770234425, 0.26860900764664014]\n",
      "[0.8736852, 0.9143148, 0.91918516, 0.92255557, 0.9247963]\n",
      "[0.9115, 0.92083335, 0.922, 0.92583334, 0.9245]\n"
     ]
    }
   ],
   "source": [
    "print(train.history['loss'])\n",
    "print(train.history['val_loss'])\n",
    "print(train.history['accuracy'])\n",
    "print(train.history['val_accuracy'])"
   ]
  },
  {
   "cell_type": "markdown",
   "metadata": {},
   "source": [
    "Finalmente observamos el resultado frente al conjunto de test:"
   ]
  },
  {
   "cell_type": "code",
   "execution_count": 15,
   "metadata": {
    "scrolled": true
   },
   "outputs": [
    {
     "name": "stdout",
     "output_type": "stream",
     "text": [
      "loss: 0.2694 acc: 0.9252\n"
     ]
    }
   ],
   "source": [
    "test = model.evaluate(data.x_test, data.y_test, verbose=0)\n",
    "print(f'loss: {test[0]:.4f} acc: {test[1]:.4f}')"
   ]
  },
  {
   "cell_type": "markdown",
   "metadata": {},
   "source": [
    "Podemos representar gráficamente además la evolución de la función objetivo de entrenamiento y validación."
   ]
  },
  {
   "cell_type": "code",
   "execution_count": 16,
   "metadata": {},
   "outputs": [
    {
     "data": {
      "image/png": "[encoded data removed]",
      "text/plain": [
       "<Figure size 432x288 with 1 Axes>"
      ]
     },
     "metadata": {
      "needs_background": "light"
     },
     "output_type": "display_data"
    }
   ],
   "source": [
    "from matplotlib.ticker import MaxNLocator\n",
    "\n",
    "def plot(train,test):\n",
    "    n = len(train.history['loss'])\n",
    "    x = list(range(1,n+1))\n",
    "    fig = plt.figure()\n",
    "    plt.plot(x,train.history['loss'])\n",
    "    plt.plot(x,train.history['val_loss'])\n",
    "    plt.plot(x,[test[0]]*n,linestyle=':', linewidth=4)\n",
    "    plt.title('Training')\n",
    "    plt.ylabel('loss')\n",
    "    plt.xlabel('epoch')\n",
    "    plt.legend(['train', 'val', 'test'], loc='upper right')\n",
    "    plt.show()\n",
    "    \n",
    "plot(train,test)"
   ]
  },
  {
   "cell_type": "markdown",
   "metadata": {},
   "source": [
    "En base al código anterior, creamos una función que permita simplificar la evaluación de distintos modelos:"
   ]
  },
  {
   "cell_type": "code",
   "execution_count": 17,
   "metadata": {},
   "outputs": [],
   "source": [
    "import numpy as np\n",
    "import tensorflow.keras.backend as K\n",
    "\n",
    "def evaluate(model, data, optimizer='adam', epochs=10):\n",
    "    \n",
    "    model.compile(optimizer,\n",
    "              loss='sparse_categorical_crossentropy',\n",
    "              metrics=['accuracy'])\n",
    "\n",
    "    if len(model.layers) <= 15 :\n",
    "        model.summary()\n",
    "    else :\n",
    "        print(f'Skipping model Summary... it has {len(model.layers)} Layers!')\n",
    "        tr = np.sum([K.count_params(w) for w in model.trainable_weights])\n",
    "        ntr = np.sum([K.count_params(w) for w in model.non_trainable_weights])\n",
    "        print(f'Total params: {tr+ntr}')\n",
    "        print(f'Trainable params: {tr}')\n",
    "        print(f'Non-trainable params: {ntr}')       \n",
    "    \n",
    "    print('\\n----- Train -----')\n",
    "    train = model.fit(data.x_train, data.y_train,\n",
    "                        epochs=epochs, validation_data = (data.x_val, data.y_val),\n",
    "                        verbose = 2)\n",
    "    print('\\n----- Test ------')\n",
    "    test = model.evaluate(data.x_test,  data.y_test, verbose=0)\n",
    "    print(f'loss: {test[0]:.4f} acc: {test[1]:.4f}')\n",
    "    \n",
    "    plot(train,test)"
   ]
  },
  {
   "cell_type": "markdown",
   "metadata": {},
   "source": [
    "La evaluación de un modelo LR será:"
   ]
  },
  {
   "cell_type": "code",
   "execution_count": 18,
   "metadata": {},
   "outputs": [
    {
     "name": "stdout",
     "output_type": "stream",
     "text": [
      "Model: \"sequential_1\"\n",
      "_________________________________________________________________\n",
      "Layer (type)                 Output Shape              Param #   \n",
      "=================================================================\n",
      "flatten_1 (Flatten)          (None, 784)               0         \n",
      "_________________________________________________________________\n",
      "dense_1 (Dense)              (None, 10)                7850      \n",
      "=================================================================\n",
      "Total params: 7,850\n",
      "Trainable params: 7,850\n",
      "Non-trainable params: 0\n",
      "_________________________________________________________________\n",
      "\n",
      "----- Train -----\n",
      "Train on 54000 samples, validate on 6000 samples\n",
      "Epoch 1/10\n",
      "54000/54000 - 6s - loss: 0.4864 - accuracy: 0.8717 - val_loss: 0.3224 - val_accuracy: 0.9105\n",
      "Epoch 2/10\n",
      "54000/54000 - 7s - loss: 0.3098 - accuracy: 0.9127 - val_loss: 0.2905 - val_accuracy: 0.9170\n",
      "Epoch 3/10\n",
      "54000/54000 - 5s - loss: 0.2878 - accuracy: 0.9197 - val_loss: 0.2781 - val_accuracy: 0.9210\n",
      "Epoch 4/10\n",
      "54000/54000 - 6s - loss: 0.2765 - accuracy: 0.9230 - val_loss: 0.2732 - val_accuracy: 0.9240\n",
      "Epoch 5/10\n",
      "54000/54000 - 7s - loss: 0.2691 - accuracy: 0.9249 - val_loss: 0.2682 - val_accuracy: 0.9255\n",
      "Epoch 6/10\n",
      "54000/54000 - 6s - loss: 0.2646 - accuracy: 0.9269 - val_loss: 0.2681 - val_accuracy: 0.9258\n",
      "Epoch 7/10\n",
      "54000/54000 - 7s - loss: 0.2611 - accuracy: 0.9269 - val_loss: 0.2655 - val_accuracy: 0.9275\n",
      "Epoch 8/10\n",
      "54000/54000 - 7s - loss: 0.2579 - accuracy: 0.9278 - val_loss: 0.2615 - val_accuracy: 0.9275\n",
      "Epoch 9/10\n",
      "54000/54000 - 7s - loss: 0.2551 - accuracy: 0.9294 - val_loss: 0.2621 - val_accuracy: 0.9280\n",
      "Epoch 10/10\n",
      "54000/54000 - 7s - loss: 0.2530 - accuracy: 0.9307 - val_loss: 0.2611 - val_accuracy: 0.9297\n",
      "\n",
      "----- Test ------\n",
      "loss: 0.2658 acc: 0.9263\n"
     ]
    },
    {
     "data": {
      "image/png": "[encoded data removed]",
      "text/plain": [
       "<Figure size 432x288 with 1 Axes>"
      ]
     },
     "metadata": {
      "needs_background": "light"
     },
     "output_type": "display_data"
    }
   ],
   "source": [
    "model = LR(data)\n",
    "evaluate(model, data)"
   ]
  },
  {
   "cell_type": "markdown",
   "metadata": {},
   "source": [
    "## Red neuronal con una capa oculta\n",
    "\n",
    "![alt text](img/nn.png)\n",
    "\n",
    "Podemos añadir una capa oculta del tamaño que deseemos..."
   ]
  },
  {
   "cell_type": "code",
   "execution_count": 19,
   "metadata": {},
   "outputs": [],
   "source": [
    "def NN(data, hidden, activation='relu'):\n",
    "\n",
    "    model = Sequential()\n",
    "    \n",
    "    model.add(Flatten(input_shape=data.input_shape))\n",
    "    \n",
    "    model.add(Dense(hidden, activation=activation))\n",
    "\n",
    "    model.add(Dense(data.output_categories, activation='softmax'))\n",
    "    \n",
    "    return model"
   ]
  },
  {
   "cell_type": "code",
   "execution_count": 20,
   "metadata": {
    "scrolled": false
   },
   "outputs": [
    {
     "name": "stdout",
     "output_type": "stream",
     "text": [
      "Model: \"sequential_2\"\n",
      "_________________________________________________________________\n",
      "Layer (type)                 Output Shape              Param #   \n",
      "=================================================================\n",
      "flatten_2 (Flatten)          (None, 784)               0         \n",
      "_________________________________________________________________\n",
      "dense_2 (Dense)              (None, 100)               78500     \n",
      "_________________________________________________________________\n",
      "dense_3 (Dense)              (None, 10)                1010      \n",
      "=================================================================\n",
      "Total params: 79,510\n",
      "Trainable params: 79,510\n",
      "Non-trainable params: 0\n",
      "_________________________________________________________________\n",
      "\n",
      "----- Train -----\n",
      "Train on 54000 samples, validate on 6000 samples\n",
      "Epoch 1/10\n",
      "54000/54000 - 7s - loss: 0.2865 - accuracy: 0.9188 - val_loss: 0.1619 - val_accuracy: 0.9530\n",
      "Epoch 2/10\n",
      "54000/54000 - 6s - loss: 0.1308 - accuracy: 0.9621 - val_loss: 0.1141 - val_accuracy: 0.9670\n",
      "Epoch 3/10\n",
      "54000/54000 - 6s - loss: 0.0916 - accuracy: 0.9731 - val_loss: 0.1128 - val_accuracy: 0.9650\n",
      "Epoch 4/10\n",
      "54000/54000 - 7s - loss: 0.0693 - accuracy: 0.9792 - val_loss: 0.0884 - val_accuracy: 0.9723\n",
      "Epoch 5/10\n",
      "54000/54000 - 8s - loss: 0.0544 - accuracy: 0.9830 - val_loss: 0.0790 - val_accuracy: 0.9762\n",
      "Epoch 6/10\n",
      "54000/54000 - 7s - loss: 0.0425 - accuracy: 0.9873 - val_loss: 0.0764 - val_accuracy: 0.9782\n",
      "Epoch 7/10\n",
      "54000/54000 - 8s - loss: 0.0362 - accuracy: 0.9890 - val_loss: 0.0765 - val_accuracy: 0.9768\n",
      "Epoch 8/10\n",
      "54000/54000 - 8s - loss: 0.0283 - accuracy: 0.9919 - val_loss: 0.0791 - val_accuracy: 0.9792\n",
      "Epoch 9/10\n",
      "54000/54000 - 8s - loss: 0.0234 - accuracy: 0.9931 - val_loss: 0.0763 - val_accuracy: 0.9785\n",
      "Epoch 10/10\n",
      "54000/54000 - 6s - loss: 0.0207 - accuracy: 0.9936 - val_loss: 0.0753 - val_accuracy: 0.9808\n",
      "\n",
      "----- Test ------\n",
      "loss: 0.0828 acc: 0.9774\n"
     ]
    },
    {
     "data": {
      "image/png": "[encoded data removed]",
      "text/plain": [
       "<Figure size 432x288 with 1 Axes>"
      ]
     },
     "metadata": {
      "needs_background": "light"
     },
     "output_type": "display_data"
    }
   ],
   "source": [
    "evaluate(NN(data, hidden=100), data)"
   ]
  },
  {
   "cell_type": "code",
   "execution_count": 21,
   "metadata": {},
   "outputs": [
    {
     "name": "stdout",
     "output_type": "stream",
     "text": [
      "Model: \"sequential_3\"\n",
      "_________________________________________________________________\n",
      "Layer (type)                 Output Shape              Param #   \n",
      "=================================================================\n",
      "flatten_3 (Flatten)          (None, 784)               0         \n",
      "_________________________________________________________________\n",
      "dense_4 (Dense)              (None, 200)               157000    \n",
      "_________________________________________________________________\n",
      "dense_5 (Dense)              (None, 10)                2010      \n",
      "=================================================================\n",
      "Total params: 159,010\n",
      "Trainable params: 159,010\n",
      "Non-trainable params: 0\n",
      "_________________________________________________________________\n",
      "\n",
      "----- Train -----\n",
      "Train on 54000 samples, validate on 6000 samples\n",
      "Epoch 1/10\n",
      "54000/54000 - 8s - loss: 0.2486 - accuracy: 0.9284 - val_loss: 0.1319 - val_accuracy: 0.9617\n",
      "Epoch 2/10\n",
      "54000/54000 - 6s - loss: 0.1066 - accuracy: 0.9681 - val_loss: 0.0932 - val_accuracy: 0.9728\n",
      "Epoch 3/10\n",
      "54000/54000 - 6s - loss: 0.0705 - accuracy: 0.9788 - val_loss: 0.0894 - val_accuracy: 0.9733\n",
      "Epoch 4/10\n",
      "54000/54000 - 6s - loss: 0.0534 - accuracy: 0.9841 - val_loss: 0.0800 - val_accuracy: 0.9762\n",
      "Epoch 5/10\n",
      "54000/54000 - 5s - loss: 0.0399 - accuracy: 0.9874 - val_loss: 0.0739 - val_accuracy: 0.9810\n",
      "Epoch 6/10\n",
      "54000/54000 - 6s - loss: 0.0292 - accuracy: 0.9908 - val_loss: 0.0713 - val_accuracy: 0.9798\n",
      "Epoch 7/10\n",
      "54000/54000 - 5s - loss: 0.0244 - accuracy: 0.9922 - val_loss: 0.0791 - val_accuracy: 0.9803\n",
      "Epoch 8/10\n",
      "54000/54000 - 7s - loss: 0.0187 - accuracy: 0.9939 - val_loss: 0.0792 - val_accuracy: 0.9773\n",
      "Epoch 9/10\n",
      "54000/54000 - 6s - loss: 0.0144 - accuracy: 0.9956 - val_loss: 0.0829 - val_accuracy: 0.9785\n",
      "Epoch 10/10\n",
      "54000/54000 - 6s - loss: 0.0132 - accuracy: 0.9961 - val_loss: 0.0724 - val_accuracy: 0.9827\n",
      "\n",
      "----- Test ------\n",
      "loss: 0.0748 acc: 0.9796\n"
     ]
    },
    {
     "data": {
      "image/png": "[encoded data removed]",
      "text/plain": [
       "<Figure size 432x288 with 1 Axes>"
      ]
     },
     "metadata": {
      "needs_background": "light"
     },
     "output_type": "display_data"
    }
   ],
   "source": [
    "evaluate(NN(data, hidden=200), data)"
   ]
  },
  {
   "cell_type": "code",
   "execution_count": 22,
   "metadata": {},
   "outputs": [
    {
     "name": "stdout",
     "output_type": "stream",
     "text": [
      "Model: \"sequential_4\"\n",
      "_________________________________________________________________\n",
      "Layer (type)                 Output Shape              Param #   \n",
      "=================================================================\n",
      "flatten_4 (Flatten)          (None, 784)               0         \n",
      "_________________________________________________________________\n",
      "dense_6 (Dense)              (None, 300)               235500    \n",
      "_________________________________________________________________\n",
      "dense_7 (Dense)              (None, 10)                3010      \n",
      "=================================================================\n",
      "Total params: 238,510\n",
      "Trainable params: 238,510\n",
      "Non-trainable params: 0\n",
      "_________________________________________________________________\n",
      "\n",
      "----- Train -----\n",
      "Train on 54000 samples, validate on 6000 samples\n",
      "Epoch 1/10\n",
      "54000/54000 - 6s - loss: 0.2302 - accuracy: 0.9334 - val_loss: 0.1104 - val_accuracy: 0.9682\n",
      "Epoch 2/10\n",
      "54000/54000 - 6s - loss: 0.0949 - accuracy: 0.9711 - val_loss: 0.0864 - val_accuracy: 0.9758\n",
      "Epoch 3/10\n",
      "54000/54000 - 5s - loss: 0.0647 - accuracy: 0.9808 - val_loss: 0.0743 - val_accuracy: 0.9782\n",
      "Epoch 4/10\n",
      "54000/54000 - 6s - loss: 0.0441 - accuracy: 0.9867 - val_loss: 0.0656 - val_accuracy: 0.9790\n",
      "Epoch 5/10\n",
      "54000/54000 - 5s - loss: 0.0333 - accuracy: 0.9897 - val_loss: 0.0712 - val_accuracy: 0.9792\n",
      "Epoch 6/10\n",
      "54000/54000 - 6s - loss: 0.0261 - accuracy: 0.9915 - val_loss: 0.0643 - val_accuracy: 0.9817\n",
      "Epoch 7/10\n",
      "54000/54000 - 5s - loss: 0.0196 - accuracy: 0.9939 - val_loss: 0.0658 - val_accuracy: 0.9823\n",
      "Epoch 8/10\n",
      "54000/54000 - 6s - loss: 0.0157 - accuracy: 0.9950 - val_loss: 0.0790 - val_accuracy: 0.9777\n",
      "Epoch 9/10\n",
      "54000/54000 - 5s - loss: 0.0143 - accuracy: 0.9953 - val_loss: 0.0769 - val_accuracy: 0.9798\n",
      "Epoch 10/10\n",
      "54000/54000 - 6s - loss: 0.0108 - accuracy: 0.9965 - val_loss: 0.0734 - val_accuracy: 0.9812\n",
      "\n",
      "----- Test ------\n",
      "loss: 0.0799 acc: 0.9808\n"
     ]
    },
    {
     "data": {
      "image/png": "[encoded data removed]",
      "text/plain": [
       "<Figure size 432x288 with 1 Axes>"
      ]
     },
     "metadata": {
      "needs_background": "light"
     },
     "output_type": "display_data"
    }
   ],
   "source": [
    "evaluate(NN(data, hidden=300), data)"
   ]
  },
  {
   "cell_type": "code",
   "execution_count": 23,
   "metadata": {
    "scrolled": false
   },
   "outputs": [
    {
     "name": "stdout",
     "output_type": "stream",
     "text": [
      "Model: \"sequential_5\"\n",
      "_________________________________________________________________\n",
      "Layer (type)                 Output Shape              Param #   \n",
      "=================================================================\n",
      "flatten_5 (Flatten)          (None, 784)               0         \n",
      "_________________________________________________________________\n",
      "dense_8 (Dense)              (None, 1000)              785000    \n",
      "_________________________________________________________________\n",
      "dense_9 (Dense)              (None, 10)                10010     \n",
      "=================================================================\n",
      "Total params: 795,010\n",
      "Trainable params: 795,010\n",
      "Non-trainable params: 0\n",
      "_________________________________________________________________\n",
      "\n",
      "----- Train -----\n",
      "Train on 54000 samples, validate on 6000 samples\n",
      "Epoch 1/10\n",
      "54000/54000 - 6s - loss: 0.1937 - accuracy: 0.9419 - val_loss: 0.0998 - val_accuracy: 0.9717\n",
      "Epoch 2/10\n",
      "54000/54000 - 5s - loss: 0.0778 - accuracy: 0.9761 - val_loss: 0.0800 - val_accuracy: 0.9760\n",
      "Epoch 3/10\n",
      "54000/54000 - 7s - loss: 0.0515 - accuracy: 0.9842 - val_loss: 0.0839 - val_accuracy: 0.9770\n",
      "Epoch 4/10\n",
      "54000/54000 - 8s - loss: 0.0366 - accuracy: 0.9881 - val_loss: 0.0887 - val_accuracy: 0.9752\n",
      "Epoch 5/10\n",
      "54000/54000 - 6s - loss: 0.0264 - accuracy: 0.9916 - val_loss: 0.0645 - val_accuracy: 0.9828\n",
      "Epoch 6/10\n",
      "54000/54000 - 5s - loss: 0.0207 - accuracy: 0.9927 - val_loss: 0.0721 - val_accuracy: 0.9808\n",
      "Epoch 7/10\n",
      "54000/54000 - 5s - loss: 0.0167 - accuracy: 0.9944 - val_loss: 0.0765 - val_accuracy: 0.9803\n",
      "Epoch 8/10\n",
      "54000/54000 - 5s - loss: 0.0161 - accuracy: 0.9947 - val_loss: 0.0772 - val_accuracy: 0.9838\n",
      "Epoch 9/10\n",
      "54000/54000 - 7s - loss: 0.0112 - accuracy: 0.9964 - val_loss: 0.0849 - val_accuracy: 0.9815\n",
      "Epoch 10/10\n",
      "54000/54000 - 7s - loss: 0.0114 - accuracy: 0.9964 - val_loss: 0.0790 - val_accuracy: 0.9842\n",
      "\n",
      "----- Test ------\n",
      "loss: 0.0898 acc: 0.9817\n"
     ]
    },
    {
     "data": {
      "image/png": "[encoded data removed]",
      "text/plain": [
       "<Figure size 432x288 with 1 Axes>"
      ]
     },
     "metadata": {
      "needs_background": "light"
     },
     "output_type": "display_data"
    }
   ],
   "source": [
    "evaluate(NN(data, hidden=1000), data)"
   ]
  },
  {
   "cell_type": "markdown",
   "metadata": {},
   "source": [
    "## DNN - Deep Neural Network\n",
    "\n",
    "![alt text](img/dnn.png)\n",
    "\n",
    "Una DNN no es sino una NN conpuesta por múltiples capas ocultas. Podemos añadir tantas capas densas como deseemos...\n"
   ]
  },
  {
   "cell_type": "code",
   "execution_count": 24,
   "metadata": {},
   "outputs": [],
   "source": [
    "def DNN(data, hidden=(), activation='relu'):\n",
    "\n",
    "    model = Sequential()\n",
    "    \n",
    "    model.add(Flatten(input_shape=data.input_shape))\n",
    "\n",
    "    for h in hidden :\n",
    "        model.add(Dense(h, activation=activation))\n",
    "        \n",
    "    model.add(Dense(data.output_categories, activation='softmax'))\n",
    "    \n",
    "    return model"
   ]
  },
  {
   "cell_type": "code",
   "execution_count": 25,
   "metadata": {},
   "outputs": [
    {
     "name": "stdout",
     "output_type": "stream",
     "text": [
      "Model: \"sequential_6\"\n",
      "_________________________________________________________________\n",
      "Layer (type)                 Output Shape              Param #   \n",
      "=================================================================\n",
      "flatten_6 (Flatten)          (None, 784)               0         \n",
      "_________________________________________________________________\n",
      "dense_10 (Dense)             (None, 100)               78500     \n",
      "_________________________________________________________________\n",
      "dense_11 (Dense)             (None, 100)               10100     \n",
      "_________________________________________________________________\n",
      "dense_12 (Dense)             (None, 100)               10100     \n",
      "_________________________________________________________________\n",
      "dense_13 (Dense)             (None, 100)               10100     \n",
      "_________________________________________________________________\n",
      "dense_14 (Dense)             (None, 100)               10100     \n",
      "_________________________________________________________________\n",
      "dense_15 (Dense)             (None, 10)                1010      \n",
      "=================================================================\n",
      "Total params: 119,910\n",
      "Trainable params: 119,910\n",
      "Non-trainable params: 0\n",
      "_________________________________________________________________\n",
      "\n",
      "----- Train -----\n",
      "Train on 54000 samples, validate on 6000 samples\n",
      "Epoch 1/10\n",
      "54000/54000 - 8s - loss: 0.2673 - accuracy: 0.9190 - val_loss: 0.2019 - val_accuracy: 0.9382\n",
      "Epoch 2/10\n",
      "54000/54000 - 8s - loss: 0.1215 - accuracy: 0.9637 - val_loss: 0.1356 - val_accuracy: 0.9558\n",
      "Epoch 3/10\n",
      "54000/54000 - 6s - loss: 0.0932 - accuracy: 0.9719 - val_loss: 0.0918 - val_accuracy: 0.9725\n",
      "Epoch 4/10\n",
      "54000/54000 - 6s - loss: 0.0746 - accuracy: 0.9774 - val_loss: 0.1078 - val_accuracy: 0.9680\n",
      "Epoch 5/10\n",
      "54000/54000 - 7s - loss: 0.0625 - accuracy: 0.9810 - val_loss: 0.0795 - val_accuracy: 0.9752\n",
      "Epoch 6/10\n",
      "54000/54000 - 7s - loss: 0.0532 - accuracy: 0.9836 - val_loss: 0.1081 - val_accuracy: 0.9702\n",
      "Epoch 7/10\n",
      "54000/54000 - 7s - loss: 0.0457 - accuracy: 0.9858 - val_loss: 0.0742 - val_accuracy: 0.9792\n",
      "Epoch 8/10\n",
      "54000/54000 - 7s - loss: 0.0422 - accuracy: 0.9873 - val_loss: 0.1026 - val_accuracy: 0.9730\n",
      "Epoch 9/10\n",
      "54000/54000 - 7s - loss: 0.0341 - accuracy: 0.9897 - val_loss: 0.0946 - val_accuracy: 0.9755\n",
      "Epoch 10/10\n",
      "54000/54000 - 7s - loss: 0.0356 - accuracy: 0.9888 - val_loss: 0.0818 - val_accuracy: 0.9788\n",
      "\n",
      "----- Test ------\n",
      "loss: 0.1042 acc: 0.9736\n"
     ]
    },
    {
     "data": {
      "image/png": "[encoded data removed]",
      "text/plain": [
       "<Figure size 432x288 with 1 Axes>"
      ]
     },
     "metadata": {
      "needs_background": "light"
     },
     "output_type": "display_data"
    }
   ],
   "source": [
    "model = DNN(data, hidden=(100,100,100,100,100))\n",
    "evaluate(model, data)"
   ]
  },
  {
   "cell_type": "code",
   "execution_count": 26,
   "metadata": {
    "scrolled": false
   },
   "outputs": [
    {
     "name": "stdout",
     "output_type": "stream",
     "text": [
      "Model: \"sequential_7\"\n",
      "_________________________________________________________________\n",
      "Layer (type)                 Output Shape              Param #   \n",
      "=================================================================\n",
      "flatten_7 (Flatten)          (None, 784)               0         \n",
      "_________________________________________________________________\n",
      "dense_16 (Dense)             (None, 1024)              803840    \n",
      "_________________________________________________________________\n",
      "dense_17 (Dense)             (None, 1024)              1049600   \n",
      "_________________________________________________________________\n",
      "dense_18 (Dense)             (None, 1024)              1049600   \n",
      "_________________________________________________________________\n",
      "dense_19 (Dense)             (None, 1024)              1049600   \n",
      "_________________________________________________________________\n",
      "dense_20 (Dense)             (None, 1024)              1049600   \n",
      "_________________________________________________________________\n",
      "dense_21 (Dense)             (None, 10)                10250     \n",
      "=================================================================\n",
      "Total params: 5,012,490\n",
      "Trainable params: 5,012,490\n",
      "Non-trainable params: 0\n",
      "_________________________________________________________________\n",
      "\n",
      "----- Train -----\n",
      "Train on 54000 samples, validate on 6000 samples\n",
      "Epoch 1/10\n",
      "54000/54000 - 7s - loss: 0.2718 - accuracy: 0.9260 - val_loss: 0.1523 - val_accuracy: 0.9620\n",
      "Epoch 2/10\n",
      "54000/54000 - 7s - loss: 0.1374 - accuracy: 0.9651 - val_loss: 0.1976 - val_accuracy: 0.9557\n",
      "Epoch 3/10\n",
      "54000/54000 - 6s - loss: 0.0994 - accuracy: 0.9742 - val_loss: 0.1183 - val_accuracy: 0.9710\n",
      "Epoch 4/10\n",
      "54000/54000 - 8s - loss: 0.0820 - accuracy: 0.9790 - val_loss: 0.1127 - val_accuracy: 0.9727\n",
      "Epoch 5/10\n",
      "54000/54000 - 7s - loss: 0.0696 - accuracy: 0.9820 - val_loss: 0.1333 - val_accuracy: 0.9720\n",
      "Epoch 6/10\n",
      "54000/54000 - 7s - loss: 0.0638 - accuracy: 0.9838 - val_loss: 0.0922 - val_accuracy: 0.9770\n",
      "Epoch 7/10\n",
      "54000/54000 - 9s - loss: 0.0484 - accuracy: 0.9877 - val_loss: 0.1276 - val_accuracy: 0.9773\n",
      "Epoch 8/10\n",
      "54000/54000 - 8s - loss: 0.0473 - accuracy: 0.9883 - val_loss: 0.1215 - val_accuracy: 0.9785\n",
      "Epoch 9/10\n",
      "54000/54000 - 7s - loss: 0.0455 - accuracy: 0.9888 - val_loss: 0.1349 - val_accuracy: 0.9742\n",
      "Epoch 10/10\n",
      "54000/54000 - 8s - loss: 0.0395 - accuracy: 0.9903 - val_loss: 0.1313 - val_accuracy: 0.9748\n",
      "\n",
      "----- Test ------\n",
      "loss: 0.1293 acc: 0.9759\n"
     ]
    },
    {
     "data": {
      "image/png": "[encoded data removed]",
      "text/plain": [
       "<Figure size 432x288 with 1 Axes>"
      ]
     },
     "metadata": {
      "needs_background": "light"
     },
     "output_type": "display_data"
    }
   ],
   "source": [
    "model = DNN(data, hidden=(1024,1024,1024,1024,1024))\n",
    "evaluate(model, data)"
   ]
  },
  {
   "cell_type": "markdown",
   "metadata": {},
   "source": [
    "## Dropout - Evitando el sobreentrenamiento\n",
    "\n",
    "Se trata de una sencilla y (a veces) efectiva regularización que desconecta aleatoriamente las neuronas durante el entrenamiento.\n",
    "\n",
    "\n",
    "<!--\n",
    "![alt text](img/dropout.png)\n",
    "-->\n",
    "\n",
    "<img src=\"img/dropout.png\" alt=\"Global Average Pooling\" style=\"width: 600px;\"/>"
   ]
  },
  {
   "cell_type": "code",
   "execution_count": 27,
   "metadata": {},
   "outputs": [],
   "source": [
    "from tensorflow.keras.layers import Dropout\n",
    "    \n",
    "def DNN(data, hidden=(), activation='relu', dropout=0.2):\n",
    "\n",
    "    model = Sequential()\n",
    "    \n",
    "    model.add(Flatten(input_shape=data.input_shape))\n",
    "\n",
    "    for h in hidden :\n",
    "        model.add(Dense(h, activation=activation))\n",
    "        if dropout :\n",
    "            model.add(Dropout(dropout))\n",
    "        \n",
    "    model.add(Dense(data.output_categories, activation='softmax'))\n",
    "    \n",
    "    return model"
   ]
  },
  {
   "cell_type": "code",
   "execution_count": 28,
   "metadata": {
    "scrolled": false
   },
   "outputs": [
    {
     "name": "stdout",
     "output_type": "stream",
     "text": [
      "Model: \"sequential_8\"\n",
      "_________________________________________________________________\n",
      "Layer (type)                 Output Shape              Param #   \n",
      "=================================================================\n",
      "flatten_8 (Flatten)          (None, 784)               0         \n",
      "_________________________________________________________________\n",
      "dense_22 (Dense)             (None, 1024)              803840    \n",
      "_________________________________________________________________\n",
      "dropout (Dropout)            (None, 1024)              0         \n",
      "_________________________________________________________________\n",
      "dense_23 (Dense)             (None, 1024)              1049600   \n",
      "_________________________________________________________________\n",
      "dropout_1 (Dropout)          (None, 1024)              0         \n",
      "_________________________________________________________________\n",
      "dense_24 (Dense)             (None, 1024)              1049600   \n",
      "_________________________________________________________________\n",
      "dropout_2 (Dropout)          (None, 1024)              0         \n",
      "_________________________________________________________________\n",
      "dense_25 (Dense)             (None, 1024)              1049600   \n",
      "_________________________________________________________________\n",
      "dropout_3 (Dropout)          (None, 1024)              0         \n",
      "_________________________________________________________________\n",
      "dense_26 (Dense)             (None, 1024)              1049600   \n",
      "_________________________________________________________________\n",
      "dropout_4 (Dropout)          (None, 1024)              0         \n",
      "_________________________________________________________________\n",
      "dense_27 (Dense)             (None, 10)                10250     \n",
      "=================================================================\n",
      "Total params: 5,012,490\n",
      "Trainable params: 5,012,490\n",
      "Non-trainable params: 0\n",
      "_________________________________________________________________\n",
      "\n",
      "----- Train -----\n",
      "Train on 54000 samples, validate on 6000 samples\n",
      "Epoch 1/10\n",
      "54000/54000 - 12s - loss: 0.3121 - accuracy: 0.9143 - val_loss: 0.1835 - val_accuracy: 0.9535\n",
      "Epoch 2/10\n",
      "54000/54000 - 8s - loss: 0.1790 - accuracy: 0.9558 - val_loss: 0.1466 - val_accuracy: 0.9637\n",
      "Epoch 3/10\n",
      "54000/54000 - 9s - loss: 0.1467 - accuracy: 0.9643 - val_loss: 0.1278 - val_accuracy: 0.9692\n",
      "Epoch 4/10\n",
      "54000/54000 - 7s - loss: 0.1313 - accuracy: 0.9683 - val_loss: 0.1257 - val_accuracy: 0.9683\n",
      "Epoch 5/10\n",
      "54000/54000 - 10s - loss: 0.1197 - accuracy: 0.9712 - val_loss: 0.1003 - val_accuracy: 0.9777\n",
      "Epoch 6/10\n",
      "54000/54000 - 11s - loss: 0.1103 - accuracy: 0.9743 - val_loss: 0.1020 - val_accuracy: 0.9773\n",
      "Epoch 7/10\n",
      "54000/54000 - 11s - loss: 0.0955 - accuracy: 0.9772 - val_loss: 0.1221 - val_accuracy: 0.9728\n",
      "Epoch 8/10\n",
      "54000/54000 - 10s - loss: 0.0941 - accuracy: 0.9775 - val_loss: 0.0746 - val_accuracy: 0.9812\n",
      "Epoch 9/10\n",
      "54000/54000 - 8s - loss: 0.0969 - accuracy: 0.9785 - val_loss: 0.0898 - val_accuracy: 0.9785\n",
      "Epoch 10/10\n",
      "54000/54000 - 8s - loss: 0.0878 - accuracy: 0.9811 - val_loss: 0.0852 - val_accuracy: 0.9815\n",
      "\n",
      "----- Test ------\n",
      "loss: 0.1219 acc: 0.9776\n"
     ]
    },
    {
     "data": {
      "image/png": "[encoded data removed]",
      "text/plain": [
       "<Figure size 432x288 with 1 Axes>"
      ]
     },
     "metadata": {
      "needs_background": "light"
     },
     "output_type": "display_data"
    }
   ],
   "source": [
    "model = DNN(data, hidden=(1024,1024,1024,1024,1024))\n",
    "evaluate(model, data)"
   ]
  },
  {
   "cell_type": "markdown",
   "metadata": {},
   "source": [
    "No obstante, a menudo un modelo con menor número de parámetros puede tener un comportamiento más que aceptable"
   ]
  },
  {
   "cell_type": "code",
   "execution_count": 29,
   "metadata": {},
   "outputs": [
    {
     "name": "stdout",
     "output_type": "stream",
     "text": [
      "Model: \"sequential_9\"\n",
      "_________________________________________________________________\n",
      "Layer (type)                 Output Shape              Param #   \n",
      "=================================================================\n",
      "flatten_9 (Flatten)          (None, 784)               0         \n",
      "_________________________________________________________________\n",
      "dense_28 (Dense)             (None, 128)               100480    \n",
      "_________________________________________________________________\n",
      "dropout_5 (Dropout)          (None, 128)               0         \n",
      "_________________________________________________________________\n",
      "dense_29 (Dense)             (None, 64)                8256      \n",
      "_________________________________________________________________\n",
      "dropout_6 (Dropout)          (None, 64)                0         \n",
      "_________________________________________________________________\n",
      "dense_30 (Dense)             (None, 32)                2080      \n",
      "_________________________________________________________________\n",
      "dropout_7 (Dropout)          (None, 32)                0         \n",
      "_________________________________________________________________\n",
      "dense_31 (Dense)             (None, 10)                330       \n",
      "=================================================================\n",
      "Total params: 111,146\n",
      "Trainable params: 111,146\n",
      "Non-trainable params: 0\n",
      "_________________________________________________________________\n",
      "\n",
      "----- Train -----\n",
      "Train on 54000 samples, validate on 6000 samples\n",
      "Epoch 1/10\n",
      "54000/54000 - 8s - loss: 0.4444 - accuracy: 0.8686 - val_loss: 0.1516 - val_accuracy: 0.9552\n",
      "Epoch 2/10\n",
      "54000/54000 - 9s - loss: 0.2099 - accuracy: 0.9428 - val_loss: 0.1172 - val_accuracy: 0.9643\n",
      "Epoch 3/10\n",
      "54000/54000 - 7s - loss: 0.1640 - accuracy: 0.9549 - val_loss: 0.1028 - val_accuracy: 0.9697\n",
      "Epoch 4/10\n",
      "54000/54000 - 8s - loss: 0.1376 - accuracy: 0.9625 - val_loss: 0.0948 - val_accuracy: 0.9738\n",
      "Epoch 5/10\n",
      "54000/54000 - 9s - loss: 0.1229 - accuracy: 0.9647 - val_loss: 0.0870 - val_accuracy: 0.9750\n",
      "Epoch 6/10\n",
      "54000/54000 - 10s - loss: 0.1097 - accuracy: 0.9695 - val_loss: 0.0806 - val_accuracy: 0.9743\n",
      "Epoch 7/10\n",
      "54000/54000 - 8s - loss: 0.0988 - accuracy: 0.9713 - val_loss: 0.0792 - val_accuracy: 0.9785\n",
      "Epoch 8/10\n",
      "54000/54000 - 7s - loss: 0.0943 - accuracy: 0.9731 - val_loss: 0.0842 - val_accuracy: 0.9758\n",
      "Epoch 9/10\n",
      "54000/54000 - 8s - loss: 0.0853 - accuracy: 0.9756 - val_loss: 0.0861 - val_accuracy: 0.9767\n",
      "Epoch 10/10\n",
      "54000/54000 - 10s - loss: 0.0833 - accuracy: 0.9767 - val_loss: 0.0728 - val_accuracy: 0.9800\n",
      "\n",
      "----- Test ------\n",
      "loss: 0.0812 acc: 0.9771\n"
     ]
    },
    {
     "data": {
      "image/png": "[encoded data removed]",
      "text/plain": [
       "<Figure size 432x288 with 1 Axes>"
      ]
     },
     "metadata": {
      "needs_background": "light"
     },
     "output_type": "display_data"
    }
   ],
   "source": [
    "model = DNN(data, hidden=(128,64,32))\n",
    "evaluate(model, data)"
   ]
  },
  {
   "cell_type": "code",
   "execution_count": 30,
   "metadata": {
    "scrolled": false
   },
   "outputs": [
    {
     "name": "stdout",
     "output_type": "stream",
     "text": [
      "Model: \"sequential_10\"\n",
      "_________________________________________________________________\n",
      "Layer (type)                 Output Shape              Param #   \n",
      "=================================================================\n",
      "flatten_10 (Flatten)         (None, 784)               0         \n",
      "_________________________________________________________________\n",
      "dense_32 (Dense)             (None, 300)               235500    \n",
      "_________________________________________________________________\n",
      "dropout_8 (Dropout)          (None, 300)               0         \n",
      "_________________________________________________________________\n",
      "dense_33 (Dense)             (None, 10)                3010      \n",
      "=================================================================\n",
      "Total params: 238,510\n",
      "Trainable params: 238,510\n",
      "Non-trainable params: 0\n",
      "_________________________________________________________________\n",
      "\n",
      "----- Train -----\n",
      "Train on 54000 samples, validate on 6000 samples\n",
      "Epoch 1/10\n",
      "54000/54000 - 8s - loss: 0.2525 - accuracy: 0.9265 - val_loss: 0.1181 - val_accuracy: 0.9628\n",
      "Epoch 2/10\n",
      "54000/54000 - 7s - loss: 0.1153 - accuracy: 0.9650 - val_loss: 0.0826 - val_accuracy: 0.9775\n",
      "Epoch 3/10\n",
      "54000/54000 - 7s - loss: 0.0819 - accuracy: 0.9752 - val_loss: 0.0888 - val_accuracy: 0.9742\n",
      "Epoch 4/10\n",
      "54000/54000 - 6s - loss: 0.0653 - accuracy: 0.9793 - val_loss: 0.0649 - val_accuracy: 0.9805\n",
      "Epoch 5/10\n",
      "54000/54000 - 6s - loss: 0.0526 - accuracy: 0.9834 - val_loss: 0.0842 - val_accuracy: 0.9757\n",
      "Epoch 6/10\n",
      "54000/54000 - 6s - loss: 0.0440 - accuracy: 0.9851 - val_loss: 0.0730 - val_accuracy: 0.9805\n",
      "Epoch 7/10\n",
      "54000/54000 - 6s - loss: 0.0365 - accuracy: 0.9879 - val_loss: 0.0688 - val_accuracy: 0.9805\n",
      "Epoch 8/10\n",
      "54000/54000 - 6s - loss: 0.0323 - accuracy: 0.9892 - val_loss: 0.0662 - val_accuracy: 0.9833\n",
      "Epoch 9/10\n",
      "54000/54000 - 7s - loss: 0.0288 - accuracy: 0.9902 - val_loss: 0.0663 - val_accuracy: 0.9835\n",
      "Epoch 10/10\n",
      "54000/54000 - 7s - loss: 0.0253 - accuracy: 0.9913 - val_loss: 0.0721 - val_accuracy: 0.9827\n",
      "\n",
      "----- Test ------\n",
      "loss: 0.0718 acc: 0.9812\n"
     ]
    },
    {
     "data": {
      "image/png": "[encoded data removed]",
      "text/plain": [
       "<Figure size 432x288 with 1 Axes>"
      ]
     },
     "metadata": {
      "needs_background": "light"
     },
     "output_type": "display_data"
    }
   ],
   "source": [
    "model = DNN(data, hidden=(300,))\n",
    "evaluate(model, data)"
   ]
  },
  {
   "cell_type": "markdown",
   "metadata": {},
   "source": [
    "## Redes Convolucionales\n",
    "\n",
    "Una capa convolucional aplica un conjunto de kernels (filtros) que son convolucionados frente a la entrada. El resultado es un `3D-array`. \n",
    "\n",
    "![alt text](img/cnn.png)"
   ]
  },
  {
   "cell_type": "markdown",
   "metadata": {},
   "source": [
    "Para poder usar las capas convolutivas, hay que agregar una dimensión más a los datos."
   ]
  },
  {
   "cell_type": "code",
   "execution_count": 31,
   "metadata": {},
   "outputs": [
    {
     "name": "stdout",
     "output_type": "stream",
     "text": [
      "input_shape = (28, 28, 1)\n",
      "output_categories = 10\n",
      "x_train (54000, 28, 28, 1)\n",
      "y_train (54000,)\n",
      "x_val (6000, 28, 28, 1)\n",
      "y_val (6000,)\n",
      "x_test (10000, 28, 28, 1)\n",
      "y_test (10000,)\n"
     ]
    }
   ],
   "source": [
    "# Agrega una dimension de canal\n",
    "data_conv = Data(\n",
    "    data.input_shape+(1,), data.output_categories,\n",
    "    data.x_train[..., tf.newaxis], data.y_train,\n",
    "    data.x_val[..., tf.newaxis], data.y_val,\n",
    "    data.x_test[..., tf.newaxis], data.y_test\n",
    ")\n",
    "for name,value in zip(data_conv._fields, data_conv) :\n",
    "    if name == 'input_shape' or name == 'output_categories':\n",
    "        print(name,'=',value)\n",
    "    else :\n",
    "        print(name,value.shape)"
   ]
  },
  {
   "cell_type": "code",
   "execution_count": 32,
   "metadata": {},
   "outputs": [],
   "source": [
    "from tensorflow.keras.layers import Conv2D, MaxPool2D\n",
    "\n",
    "def CNN(data, activation='relu'):\n",
    "    \n",
    "    model = Sequential()\n",
    "    \n",
    "    model.add(Conv2D(filters=32, kernel_size=3, padding='same', activation=activation, input_shape=data.input_shape))\n",
    "    model.add(MaxPool2D(pool_size=(2,2)))\n",
    "    \n",
    "    model.add(Conv2D(filters=32, kernel_size=3, padding='same', activation=activation))\n",
    "    model.add(MaxPool2D(pool_size=(2,2)))\n",
    "    \n",
    "    model.add(Conv2D(filters=64, kernel_size=3, padding='same', activation=activation))\n",
    "    model.add(MaxPool2D(pool_size=(2,2)))\n",
    "\n",
    "    model.add(Flatten())\n",
    "    model.add(Dense(data.output_categories, activation='softmax'))\n",
    "    \n",
    "    return model"
   ]
  },
  {
   "cell_type": "code",
   "execution_count": 33,
   "metadata": {
    "scrolled": false
   },
   "outputs": [
    {
     "name": "stdout",
     "output_type": "stream",
     "text": [
      "Model: \"sequential_11\"\n",
      "_________________________________________________________________\n",
      "Layer (type)                 Output Shape              Param #   \n",
      "=================================================================\n",
      "conv2d (Conv2D)              (None, 28, 28, 32)        320       \n",
      "_________________________________________________________________\n",
      "max_pooling2d (MaxPooling2D) (None, 14, 14, 32)        0         \n",
      "_________________________________________________________________\n",
      "conv2d_1 (Conv2D)            (None, 14, 14, 32)        9248      \n",
      "_________________________________________________________________\n",
      "max_pooling2d_1 (MaxPooling2 (None, 7, 7, 32)          0         \n",
      "_________________________________________________________________\n",
      "conv2d_2 (Conv2D)            (None, 7, 7, 64)          18496     \n",
      "_________________________________________________________________\n",
      "max_pooling2d_2 (MaxPooling2 (None, 3, 3, 64)          0         \n",
      "_________________________________________________________________\n",
      "flatten_11 (Flatten)         (None, 576)               0         \n",
      "_________________________________________________________________\n",
      "dense_34 (Dense)             (None, 10)                5770      \n",
      "=================================================================\n",
      "Total params: 33,834\n",
      "Trainable params: 33,834\n",
      "Non-trainable params: 0\n",
      "_________________________________________________________________\n",
      "\n",
      "----- Train -----\n",
      "Train on 54000 samples, validate on 6000 samples\n",
      "Epoch 1/10\n",
      "54000/54000 - 12s - loss: 0.1645 - accuracy: 0.9507 - val_loss: 0.0642 - val_accuracy: 0.9807\n",
      "Epoch 2/10\n",
      "54000/54000 - 9s - loss: 0.0530 - accuracy: 0.9832 - val_loss: 0.0364 - val_accuracy: 0.9890\n",
      "Epoch 3/10\n",
      "54000/54000 - 9s - loss: 0.0366 - accuracy: 0.9884 - val_loss: 0.0742 - val_accuracy: 0.9737\n",
      "Epoch 4/10\n",
      "54000/54000 - 11s - loss: 0.0286 - accuracy: 0.9907 - val_loss: 0.0429 - val_accuracy: 0.9867\n",
      "Epoch 5/10\n",
      "54000/54000 - 8s - loss: 0.0249 - accuracy: 0.9922 - val_loss: 0.0286 - val_accuracy: 0.9902\n",
      "Epoch 6/10\n",
      "54000/54000 - 10s - loss: 0.0198 - accuracy: 0.9936 - val_loss: 0.0315 - val_accuracy: 0.9922\n",
      "Epoch 7/10\n",
      "54000/54000 - 9s - loss: 0.0152 - accuracy: 0.9951 - val_loss: 0.0364 - val_accuracy: 0.9900\n",
      "Epoch 8/10\n",
      "54000/54000 - 10s - loss: 0.0147 - accuracy: 0.9951 - val_loss: 0.0347 - val_accuracy: 0.9912\n",
      "Epoch 9/10\n",
      "54000/54000 - 10s - loss: 0.0115 - accuracy: 0.9962 - val_loss: 0.0311 - val_accuracy: 0.9915\n",
      "Epoch 10/10\n",
      "54000/54000 - 10s - loss: 0.0092 - accuracy: 0.9970 - val_loss: 0.0389 - val_accuracy: 0.9900\n",
      "\n",
      "----- Test ------\n",
      "loss: 0.0306 acc: 0.9910\n"
     ]
    },
    {
     "data": {
      "image/png": "[encoded data removed]",
      "text/plain": [
       "<Figure size 432x288 with 1 Axes>"
      ]
     },
     "metadata": {
      "needs_background": "light"
     },
     "output_type": "display_data"
    }
   ],
   "source": [
    "model = CNN(data_conv)\n",
    "evaluate(model, data_conv)"
   ]
  },
  {
   "cell_type": "markdown",
   "metadata": {},
   "source": [
    "## Pero... y el _dropout_ ?\n",
    "\n",
    "* [Don’t Use Dropout in Convolutional Networks](https://www.kdnuggets.com/2018/09/dropout-convolutional-networks.html), use BatchNormalization instead.\n",
    "   * Parece ser que la regularización mediante _dropout_ no es muy adecuada para las CNN\n",
    "* `BatchNormalization`: Normaliza (**solo** durante el entrenamiento) la media y varianza de los datos de entrada (por batch).\n",
    "\n",
    "La normalización suele ser aplicada antes de la función de activación, por lo que hay que separar a esta última de la capa de convolución."
   ]
  },
  {
   "cell_type": "code",
   "execution_count": 34,
   "metadata": {},
   "outputs": [],
   "source": [
    "from tensorflow.keras.layers import Activation, BatchNormalization\n",
    "\n",
    "def CNNbnorm(data, activation='relu'):\n",
    "    \n",
    "    model = Sequential()\n",
    "    \n",
    "    model.add(Conv2D(filters=32, kernel_size=3, padding='same', input_shape=data.input_shape))\n",
    "    model.add(BatchNormalization())\n",
    "    model.add(Activation(activation))\n",
    "    model.add(MaxPool2D(pool_size=(2,2)))\n",
    "    \n",
    "    model.add(Conv2D(filters=32, kernel_size=3, padding='same'))\n",
    "    model.add(BatchNormalization())\n",
    "    model.add(Activation(activation))\n",
    "    model.add(MaxPool2D(pool_size=(2,2)))\n",
    "    \n",
    "    model.add(Conv2D(filters=64, kernel_size=3, padding='same'))\n",
    "    model.add(BatchNormalization())\n",
    "    model.add(Activation(activation))\n",
    "    model.add(MaxPool2D(pool_size=(2,2)))\n",
    "\n",
    "    model.add(Flatten())\n",
    "    model.add(Dense(data.output_categories, activation='softmax'))\n",
    "    \n",
    "    return model"
   ]
  },
  {
   "cell_type": "code",
   "execution_count": 35,
   "metadata": {
    "scrolled": false
   },
   "outputs": [
    {
     "name": "stdout",
     "output_type": "stream",
     "text": [
      "Model: \"sequential_12\"\n",
      "_________________________________________________________________\n",
      "Layer (type)                 Output Shape              Param #   \n",
      "=================================================================\n",
      "conv2d_3 (Conv2D)            (None, 28, 28, 32)        320       \n",
      "_________________________________________________________________\n",
      "batch_normalization (BatchNo (None, 28, 28, 32)        128       \n",
      "_________________________________________________________________\n",
      "activation (Activation)      (None, 28, 28, 32)        0         \n",
      "_________________________________________________________________\n",
      "max_pooling2d_3 (MaxPooling2 (None, 14, 14, 32)        0         \n",
      "_________________________________________________________________\n",
      "conv2d_4 (Conv2D)            (None, 14, 14, 32)        9248      \n",
      "_________________________________________________________________\n",
      "batch_normalization_1 (Batch (None, 14, 14, 32)        128       \n",
      "_________________________________________________________________\n",
      "activation_1 (Activation)    (None, 14, 14, 32)        0         \n",
      "_________________________________________________________________\n",
      "max_pooling2d_4 (MaxPooling2 (None, 7, 7, 32)          0         \n",
      "_________________________________________________________________\n",
      "conv2d_5 (Conv2D)            (None, 7, 7, 64)          18496     \n",
      "_________________________________________________________________\n",
      "batch_normalization_2 (Batch (None, 7, 7, 64)          256       \n",
      "_________________________________________________________________\n",
      "activation_2 (Activation)    (None, 7, 7, 64)          0         \n",
      "_________________________________________________________________\n",
      "max_pooling2d_5 (MaxPooling2 (None, 3, 3, 64)          0         \n",
      "_________________________________________________________________\n",
      "flatten_12 (Flatten)         (None, 576)               0         \n",
      "_________________________________________________________________\n",
      "dense_35 (Dense)             (None, 10)                5770      \n",
      "=================================================================\n",
      "Total params: 34,346\n",
      "Trainable params: 34,090\n",
      "Non-trainable params: 256\n",
      "_________________________________________________________________\n",
      "\n",
      "----- Train -----\n",
      "Train on 54000 samples, validate on 6000 samples\n",
      "Epoch 1/10\n",
      "54000/54000 - 11s - loss: 0.1152 - accuracy: 0.9662 - val_loss: 0.1780 - val_accuracy: 0.9457\n",
      "Epoch 2/10\n",
      "54000/54000 - 10s - loss: 0.0427 - accuracy: 0.9863 - val_loss: 0.0840 - val_accuracy: 0.9728\n",
      "Epoch 3/10\n",
      "54000/54000 - 11s - loss: 0.0335 - accuracy: 0.9896 - val_loss: 0.0956 - val_accuracy: 0.9722\n",
      "Epoch 4/10\n",
      "54000/54000 - 11s - loss: 0.0258 - accuracy: 0.9913 - val_loss: 0.0522 - val_accuracy: 0.9840\n",
      "Epoch 5/10\n",
      "54000/54000 - 11s - loss: 0.0201 - accuracy: 0.9933 - val_loss: 0.1028 - val_accuracy: 0.9682\n",
      "Epoch 6/10\n",
      "54000/54000 - 13s - loss: 0.0163 - accuracy: 0.9945 - val_loss: 0.0368 - val_accuracy: 0.9880\n",
      "Epoch 7/10\n",
      "54000/54000 - 13s - loss: 0.0134 - accuracy: 0.9954 - val_loss: 0.0491 - val_accuracy: 0.9847\n",
      "Epoch 8/10\n",
      "54000/54000 - 13s - loss: 0.0129 - accuracy: 0.9958 - val_loss: 0.0434 - val_accuracy: 0.9867\n",
      "Epoch 9/10\n",
      "54000/54000 - 11s - loss: 0.0099 - accuracy: 0.9966 - val_loss: 0.0430 - val_accuracy: 0.9860\n",
      "Epoch 10/10\n",
      "54000/54000 - 10s - loss: 0.0087 - accuracy: 0.9973 - val_loss: 0.0491 - val_accuracy: 0.9850\n",
      "\n",
      "----- Test ------\n",
      "loss: 0.0486 acc: 0.9851\n"
     ]
    },
    {
     "data": {
      "image/png": "[encoded data removed]",
      "text/plain": [
       "<Figure size 432x288 with 1 Axes>"
      ]
     },
     "metadata": {
      "needs_background": "light"
     },
     "output_type": "display_data"
    }
   ],
   "source": [
    "model = CNNbnorm(data_conv)\n",
    "evaluate(model, data_conv)"
   ]
  },
  {
   "cell_type": "markdown",
   "metadata": {},
   "source": [
    "Personalmente... sigue pareciéndome más efectivo el dropout..."
   ]
  },
  {
   "cell_type": "code",
   "execution_count": 36,
   "metadata": {},
   "outputs": [],
   "source": [
    "from tensorflow.keras.layers import Conv2D\n",
    "\n",
    "def CNNdropout(data, activation='relu', dropout=0.2):\n",
    "    \n",
    "    model = Sequential()\n",
    "    \n",
    "    model.add(Conv2D(filters=32, kernel_size=3, padding='same', activation=activation, input_shape=data.input_shape))\n",
    "    model.add(MaxPool2D(pool_size=(2,2)))\n",
    "    model.add(Dropout(dropout))\n",
    "    \n",
    "    model.add(Conv2D(filters=32, kernel_size=3, padding='same', activation=activation))\n",
    "    model.add(MaxPool2D(pool_size=(2,2)))\n",
    "    model.add(Dropout(dropout))\n",
    "    \n",
    "    model.add(Conv2D(filters=64, kernel_size=3, padding='same', activation=activation))\n",
    "    model.add(MaxPool2D(pool_size=(2,2)))\n",
    "    model.add(Dropout(dropout))\n",
    "\n",
    "    model.add(Flatten())\n",
    "    model.add(Dense(data.output_categories, activation='softmax'))\n",
    "    \n",
    "    return model"
   ]
  },
  {
   "cell_type": "code",
   "execution_count": 37,
   "metadata": {
    "scrolled": false
   },
   "outputs": [
    {
     "name": "stdout",
     "output_type": "stream",
     "text": [
      "Model: \"sequential_13\"\n",
      "_________________________________________________________________\n",
      "Layer (type)                 Output Shape              Param #   \n",
      "=================================================================\n",
      "conv2d_6 (Conv2D)            (None, 28, 28, 32)        320       \n",
      "_________________________________________________________________\n",
      "max_pooling2d_6 (MaxPooling2 (None, 14, 14, 32)        0         \n",
      "_________________________________________________________________\n",
      "dropout_9 (Dropout)          (None, 14, 14, 32)        0         \n",
      "_________________________________________________________________\n",
      "conv2d_7 (Conv2D)            (None, 14, 14, 32)        9248      \n",
      "_________________________________________________________________\n",
      "max_pooling2d_7 (MaxPooling2 (None, 7, 7, 32)          0         \n",
      "_________________________________________________________________\n",
      "dropout_10 (Dropout)         (None, 7, 7, 32)          0         \n",
      "_________________________________________________________________\n",
      "conv2d_8 (Conv2D)            (None, 7, 7, 64)          18496     \n",
      "_________________________________________________________________\n",
      "max_pooling2d_8 (MaxPooling2 (None, 3, 3, 64)          0         \n",
      "_________________________________________________________________\n",
      "dropout_11 (Dropout)         (None, 3, 3, 64)          0         \n",
      "_________________________________________________________________\n",
      "flatten_13 (Flatten)         (None, 576)               0         \n",
      "_________________________________________________________________\n",
      "dense_36 (Dense)             (None, 10)                5770      \n",
      "=================================================================\n",
      "Total params: 33,834\n",
      "Trainable params: 33,834\n",
      "Non-trainable params: 0\n",
      "_________________________________________________________________\n",
      "\n",
      "----- Train -----\n",
      "Train on 54000 samples, validate on 6000 samples\n",
      "Epoch 1/10\n",
      "54000/54000 - 12s - loss: 0.2397 - accuracy: 0.9229 - val_loss: 0.0629 - val_accuracy: 0.9827\n",
      "Epoch 2/10\n",
      "54000/54000 - 12s - loss: 0.0750 - accuracy: 0.9764 - val_loss: 0.0430 - val_accuracy: 0.9883\n",
      "Epoch 3/10\n",
      "54000/54000 - 9s - loss: 0.0584 - accuracy: 0.9814 - val_loss: 0.0334 - val_accuracy: 0.9905\n",
      "Epoch 4/10\n",
      "54000/54000 - 10s - loss: 0.0511 - accuracy: 0.9840 - val_loss: 0.0292 - val_accuracy: 0.9910\n",
      "Epoch 5/10\n",
      "54000/54000 - 12s - loss: 0.0433 - accuracy: 0.9864 - val_loss: 0.0303 - val_accuracy: 0.9912\n",
      "Epoch 6/10\n",
      "54000/54000 - 9s - loss: 0.0393 - accuracy: 0.9870 - val_loss: 0.0312 - val_accuracy: 0.9903\n",
      "Epoch 7/10\n",
      "54000/54000 - 11s - loss: 0.0371 - accuracy: 0.9880 - val_loss: 0.0298 - val_accuracy: 0.9917\n",
      "Epoch 8/10\n",
      "54000/54000 - 9s - loss: 0.0347 - accuracy: 0.9892 - val_loss: 0.0311 - val_accuracy: 0.9915\n",
      "Epoch 9/10\n",
      "54000/54000 - 11s - loss: 0.0333 - accuracy: 0.9898 - val_loss: 0.0284 - val_accuracy: 0.9927\n",
      "Epoch 10/10\n",
      "54000/54000 - 11s - loss: 0.0317 - accuracy: 0.9898 - val_loss: 0.0289 - val_accuracy: 0.9922\n",
      "\n",
      "----- Test ------\n",
      "loss: 0.0213 acc: 0.9933\n"
     ]
    },
    {
     "data": {
      "image/png": "[encoded data removed]",
      "text/plain": [
       "<Figure size 432x288 with 1 Axes>"
      ]
     },
     "metadata": {
      "needs_background": "light"
     },
     "output_type": "display_data"
    }
   ],
   "source": [
    "model = CNNdropout(data_conv)\n",
    "evaluate(model, data_conv)"
   ]
  },
  {
   "cell_type": "markdown",
   "metadata": {},
   "source": [
    "## Global-average-pooling\n",
    "\n",
    "Las redes convolucioinales deben terminar en una capa densa con activación _softmax_. La última capa densa debe conectarse a otra capa densa, que normalmente será el resultado de aplanar (`Flatten`) la última capa convolucional. La capa `GlobalAveragePooling2D` realiza un promedio de los canales de la capa convolucional anterior, resultando en un vector cuya dimensión es igual al número de canales. El resultado es una reducción sustancial en el número de parámetros del modelo. \n",
    "\n",
    "\n",
    "<!--\n",
    "![alt text](img/gap.png)\n",
    "-->\n",
    "\n",
    "<img src=\"img/gap.png\" alt=\"Global Average Pooling\" style=\"width: 1200px;\"/>\n",
    "\n",
    "* https://adventuresinmachinelearning.com/global-average-pooling-convolutional-neural-networks/\n",
    "\n",
    "\n",
    " "
   ]
  },
  {
   "cell_type": "code",
   "execution_count": 38,
   "metadata": {},
   "outputs": [],
   "source": [
    "from tensorflow.keras.layers import GlobalAveragePooling2D\n",
    "\n",
    "def CNNgap(data, activation='relu',dropout=0.2):\n",
    "    \n",
    "    model = Sequential()\n",
    "    \n",
    "    model.add(Conv2D(filters=32, kernel_size=3, padding='same', activation=activation, input_shape=data.input_shape))\n",
    "    model.add(MaxPool2D(pool_size=(2,2)))\n",
    "    model.add(Dropout(dropout))\n",
    "    \n",
    "    model.add(Conv2D(filters=32, kernel_size=3, padding='same', activation=activation))\n",
    "    model.add(MaxPool2D(pool_size=(2,2)))\n",
    "    model.add(Dropout(dropout))\n",
    "    \n",
    "    model.add(Conv2D(filters=64, kernel_size=3, padding='same', activation=activation))\n",
    "    model.add(MaxPool2D(pool_size=(2,2)))\n",
    "    model.add(Dropout(dropout))\n",
    "        \n",
    "    model.add(GlobalAveragePooling2D())\n",
    "    model.add(Dense(data.output_categories, activation='softmax'))\n",
    "    \n",
    "    return model"
   ]
  },
  {
   "cell_type": "code",
   "execution_count": 39,
   "metadata": {
    "scrolled": false
   },
   "outputs": [
    {
     "name": "stdout",
     "output_type": "stream",
     "text": [
      "Model: \"sequential_14\"\n",
      "_________________________________________________________________\n",
      "Layer (type)                 Output Shape              Param #   \n",
      "=================================================================\n",
      "conv2d_9 (Conv2D)            (None, 28, 28, 32)        320       \n",
      "_________________________________________________________________\n",
      "max_pooling2d_9 (MaxPooling2 (None, 14, 14, 32)        0         \n",
      "_________________________________________________________________\n",
      "dropout_12 (Dropout)         (None, 14, 14, 32)        0         \n",
      "_________________________________________________________________\n",
      "conv2d_10 (Conv2D)           (None, 14, 14, 32)        9248      \n",
      "_________________________________________________________________\n",
      "max_pooling2d_10 (MaxPooling (None, 7, 7, 32)          0         \n",
      "_________________________________________________________________\n",
      "dropout_13 (Dropout)         (None, 7, 7, 32)          0         \n",
      "_________________________________________________________________\n",
      "conv2d_11 (Conv2D)           (None, 7, 7, 64)          18496     \n",
      "_________________________________________________________________\n",
      "max_pooling2d_11 (MaxPooling (None, 3, 3, 64)          0         \n",
      "_________________________________________________________________\n",
      "dropout_14 (Dropout)         (None, 3, 3, 64)          0         \n",
      "_________________________________________________________________\n",
      "global_average_pooling2d (Gl (None, 64)                0         \n",
      "_________________________________________________________________\n",
      "dense_37 (Dense)             (None, 10)                650       \n",
      "=================================================================\n",
      "Total params: 28,714\n",
      "Trainable params: 28,714\n",
      "Non-trainable params: 0\n",
      "_________________________________________________________________\n",
      "\n",
      "----- Train -----\n",
      "Train on 54000 samples, validate on 6000 samples\n",
      "Epoch 1/20\n",
      "54000/54000 - 10s - loss: 0.5126 - accuracy: 0.8343 - val_loss: 0.1406 - val_accuracy: 0.9602\n",
      "Epoch 2/20\n",
      "54000/54000 - 10s - loss: 0.1829 - accuracy: 0.9441 - val_loss: 0.0966 - val_accuracy: 0.9710\n",
      "Epoch 3/20\n",
      "54000/54000 - 13s - loss: 0.1307 - accuracy: 0.9592 - val_loss: 0.0597 - val_accuracy: 0.9827\n",
      "Epoch 4/20\n",
      "54000/54000 - 12s - loss: 0.1034 - accuracy: 0.9682 - val_loss: 0.0497 - val_accuracy: 0.9852\n",
      "Epoch 5/20\n",
      "54000/54000 - 12s - loss: 0.0882 - accuracy: 0.9726 - val_loss: 0.0436 - val_accuracy: 0.9873\n",
      "Epoch 6/20\n",
      "54000/54000 - 12s - loss: 0.0781 - accuracy: 0.9751 - val_loss: 0.0421 - val_accuracy: 0.9867\n",
      "Epoch 7/20\n",
      "54000/54000 - 12s - loss: 0.0703 - accuracy: 0.9775 - val_loss: 0.0362 - val_accuracy: 0.9883\n",
      "Epoch 8/20\n",
      "54000/54000 - 12s - loss: 0.0651 - accuracy: 0.9793 - val_loss: 0.0424 - val_accuracy: 0.9860\n",
      "Epoch 9/20\n",
      "54000/54000 - 12s - loss: 0.0610 - accuracy: 0.9809 - val_loss: 0.0413 - val_accuracy: 0.9878\n",
      "Epoch 10/20\n",
      "54000/54000 - 12s - loss: 0.0569 - accuracy: 0.9823 - val_loss: 0.0355 - val_accuracy: 0.9892\n",
      "Epoch 11/20\n",
      "54000/54000 - 9s - loss: 0.0543 - accuracy: 0.9834 - val_loss: 0.0329 - val_accuracy: 0.9900\n",
      "Epoch 12/20\n",
      "54000/54000 - 11s - loss: 0.0512 - accuracy: 0.9839 - val_loss: 0.0342 - val_accuracy: 0.9898\n",
      "Epoch 13/20\n",
      "54000/54000 - 10s - loss: 0.0479 - accuracy: 0.9848 - val_loss: 0.0331 - val_accuracy: 0.9898\n",
      "Epoch 14/20\n",
      "54000/54000 - 9s - loss: 0.0469 - accuracy: 0.9854 - val_loss: 0.0333 - val_accuracy: 0.9893\n",
      "Epoch 15/20\n",
      "54000/54000 - 10s - loss: 0.0465 - accuracy: 0.9853 - val_loss: 0.0304 - val_accuracy: 0.9903\n",
      "Epoch 16/20\n",
      "54000/54000 - 12s - loss: 0.0427 - accuracy: 0.9861 - val_loss: 0.0296 - val_accuracy: 0.9908\n",
      "Epoch 17/20\n",
      "54000/54000 - 11s - loss: 0.0429 - accuracy: 0.9858 - val_loss: 0.0290 - val_accuracy: 0.9905\n",
      "Epoch 18/20\n",
      "54000/54000 - 9s - loss: 0.0390 - accuracy: 0.9876 - val_loss: 0.0282 - val_accuracy: 0.9913\n",
      "Epoch 19/20\n",
      "54000/54000 - 10s - loss: 0.0376 - accuracy: 0.9877 - val_loss: 0.0283 - val_accuracy: 0.9907\n",
      "Epoch 20/20\n",
      "54000/54000 - 10s - loss: 0.0405 - accuracy: 0.9870 - val_loss: 0.0303 - val_accuracy: 0.9892\n",
      "\n",
      "----- Test ------\n",
      "loss: 0.0286 acc: 0.9904\n"
     ]
    },
    {
     "data": {
      "image/png": "[encoded data removed]",
      "text/plain": [
       "<Figure size 432x288 with 1 Axes>"
      ]
     },
     "metadata": {
      "needs_background": "light"
     },
     "output_type": "display_data"
    }
   ],
   "source": [
    "model = CNNgap(data_conv)\n",
    "evaluate(model, data_conv, epochs=20)"
   ]
  },
  {
   "cell_type": "markdown",
   "metadata": {},
   "source": [
    "## Reproduciendo resultados ajenos\n",
    "\n",
    "* https://www.kaggle.com/yassineghouzam/introduction-to-cnn-keras-0-997-top-6\n",
    "* https://www.kaggle.com/adityaecdrid/mnist-with-keras-for-beginners-99457\n",
    "\n",
    "Primero el modelo:"
   ]
  },
  {
   "cell_type": "code",
   "execution_count": 40,
   "metadata": {},
   "outputs": [],
   "source": [
    "from tensorflow.keras.optimizers import RMSprop\n",
    "\n",
    "def XModel(data):\n",
    "\n",
    "    model = Sequential()\n",
    "\n",
    "    model.add(Conv2D(filters = 32, kernel_size = (5,5), padding = 'Same', activation ='relu', input_shape=data.input_shape))\n",
    "    model.add(Conv2D(filters = 32, kernel_size = (5,5), padding = 'Same', activation ='relu'))\n",
    "    model.add(MaxPool2D(pool_size=(2,2)))\n",
    "    model.add(Dropout(0.25))\n",
    "    \n",
    "    model.add(Conv2D(filters = 64, kernel_size = (3,3), padding = 'Same', activation ='relu'))\n",
    "    model.add(Conv2D(filters = 64, kernel_size = (3,3), padding = 'Same', activation ='relu'))\n",
    "    model.add(MaxPool2D(pool_size=(2,2), strides=(2,2)))\n",
    "    model.add(Dropout(0.25))\n",
    "\n",
    "    model.add(Flatten())\n",
    "    model.add(Dense(256, activation = \"relu\"))\n",
    "    model.add(Dropout(0.3))\n",
    "    model.add(Dense(data.output_categories, activation='softmax'))\n",
    "    \n",
    "    return model"
   ]
  },
  {
   "cell_type": "markdown",
   "metadata": {},
   "source": [
    "A menudo el parámetro _learning-rate_ suele ser modificado _online_ para adaptarse al entrenamiento. Una estrategia sencilla es reducirlo si la función objetivo no decrece:"
   ]
  },
  {
   "cell_type": "code",
   "execution_count": 41,
   "metadata": {},
   "outputs": [],
   "source": [
    "from tensorflow.keras.callbacks import ReduceLROnPlateau\n",
    "\n",
    "#reduce the LR by half if the training loss is not improved after 1 epochs.\n",
    "learning_rate_reduction = ReduceLROnPlateau(monitor='loss', \n",
    "                                            patience=1, \n",
    "                                            verbose=1, \n",
    "                                            factor=0.5, \n",
    "                                            min_lr=1e-10)"
   ]
  },
  {
   "cell_type": "markdown",
   "metadata": {},
   "source": [
    "Añadimos la reducción del learning-rate a los _callbacks_ del entrenamiento: "
   ]
  },
  {
   "cell_type": "code",
   "execution_count": 42,
   "metadata": {},
   "outputs": [],
   "source": [
    "def evaluate(model, data, optimizer='adam', epochs=10):\n",
    "    \n",
    "    model.compile(optimizer,\n",
    "              loss='sparse_categorical_crossentropy',\n",
    "              metrics=['accuracy'])\n",
    "\n",
    "    if len(model.layers) <= 15 :\n",
    "        model.summary()\n",
    "    else :\n",
    "        print(f'Skipping model Summary... it has {len(model.layers)} Layers!')\n",
    "        tr = np.sum([K.count_params(w) for w in model.trainable_weights])\n",
    "        ntr = np.sum([K.count_params(w) for w in model.non_trainable_weights])\n",
    "        print(f'Total params: {tr+ntr}')\n",
    "        print(f'Trainable params: {tr}')\n",
    "        print(f'Non-trainable params: {ntr}')        \n",
    "    \n",
    "    print('\\n----- Train -----')\n",
    "    train = model.fit(data.x_train, data.y_train,\n",
    "                        epochs=epochs, validation_data = (data.x_val, data.y_val),\n",
    "                        verbose = 2, callbacks=[learning_rate_reduction])\n",
    "    print('\\n----- Test ------')\n",
    "    test = model.evaluate(data.x_test,  data.y_test, verbose=0)\n",
    "    print(f'loss: {test[0]:.4f} acc: {test[1]:.4f}')\n",
    "    \n",
    "    plot(train,test)"
   ]
  },
  {
   "cell_type": "markdown",
   "metadata": {},
   "source": [
    "Evaluamos el modelo, usando un optimizador _RMSprop_ en vez de _Adam_ (por defecto):"
   ]
  },
  {
   "cell_type": "code",
   "execution_count": 43,
   "metadata": {
    "scrolled": false
   },
   "outputs": [
    {
     "name": "stdout",
     "output_type": "stream",
     "text": [
      "Model: \"sequential_15\"\n",
      "_________________________________________________________________\n",
      "Layer (type)                 Output Shape              Param #   \n",
      "=================================================================\n",
      "conv2d_12 (Conv2D)           (None, 28, 28, 32)        832       \n",
      "_________________________________________________________________\n",
      "conv2d_13 (Conv2D)           (None, 28, 28, 32)        25632     \n",
      "_________________________________________________________________\n",
      "max_pooling2d_12 (MaxPooling (None, 14, 14, 32)        0         \n",
      "_________________________________________________________________\n",
      "dropout_15 (Dropout)         (None, 14, 14, 32)        0         \n",
      "_________________________________________________________________\n",
      "conv2d_14 (Conv2D)           (None, 14, 14, 64)        18496     \n",
      "_________________________________________________________________\n",
      "conv2d_15 (Conv2D)           (None, 14, 14, 64)        36928     \n",
      "_________________________________________________________________\n",
      "max_pooling2d_13 (MaxPooling (None, 7, 7, 64)          0         \n",
      "_________________________________________________________________\n",
      "dropout_16 (Dropout)         (None, 7, 7, 64)          0         \n",
      "_________________________________________________________________\n",
      "flatten_14 (Flatten)         (None, 3136)              0         \n",
      "_________________________________________________________________\n",
      "dense_38 (Dense)             (None, 256)               803072    \n",
      "_________________________________________________________________\n",
      "dropout_17 (Dropout)         (None, 256)               0         \n",
      "_________________________________________________________________\n",
      "dense_39 (Dense)             (None, 10)                2570      \n",
      "=================================================================\n",
      "Total params: 887,530\n",
      "Trainable params: 887,530\n",
      "Non-trainable params: 0\n",
      "_________________________________________________________________\n",
      "\n",
      "----- Train -----\n",
      "Train on 54000 samples, validate on 6000 samples\n",
      "Epoch 1/30\n",
      "54000/54000 - 15s - loss: 0.1441 - accuracy: 0.9547 - val_loss: 0.0444 - val_accuracy: 0.9870\n",
      "Epoch 2/30\n",
      "54000/54000 - 13s - loss: 0.0605 - accuracy: 0.9823 - val_loss: 0.0498 - val_accuracy: 0.9872\n",
      "Epoch 3/30\n",
      "54000/54000 - 13s - loss: 0.0507 - accuracy: 0.9862 - val_loss: 0.0890 - val_accuracy: 0.9820\n",
      "Epoch 4/30\n",
      "\n",
      "Epoch 00004: ReduceLROnPlateau reducing learning rate to 0.0005000000237487257.\n",
      "54000/54000 - 11s - loss: 0.0507 - accuracy: 0.9863 - val_loss: 0.0339 - val_accuracy: 0.9907\n",
      "Epoch 5/30\n",
      "54000/54000 - 10s - loss: 0.0335 - accuracy: 0.9902 - val_loss: 0.0328 - val_accuracy: 0.9913\n",
      "Epoch 6/30\n",
      "54000/54000 - 12s - loss: 0.0317 - accuracy: 0.9910 - val_loss: 0.0301 - val_accuracy: 0.9918\n",
      "Epoch 7/30\n",
      "\n",
      "Epoch 00007: ReduceLROnPlateau reducing learning rate to 0.0002500000118743628.\n",
      "54000/54000 - 13s - loss: 0.0317 - accuracy: 0.9916 - val_loss: 0.0332 - val_accuracy: 0.9910\n",
      "Epoch 8/30\n",
      "54000/54000 - 11s - loss: 0.0243 - accuracy: 0.9931 - val_loss: 0.0329 - val_accuracy: 0.9917\n",
      "Epoch 9/30\n",
      "54000/54000 - 12s - loss: 0.0241 - accuracy: 0.9936 - val_loss: 0.0364 - val_accuracy: 0.9927\n",
      "Epoch 10/30\n",
      "54000/54000 - 10s - loss: 0.0222 - accuracy: 0.9937 - val_loss: 0.0299 - val_accuracy: 0.9927\n",
      "Epoch 11/30\n",
      "\n",
      "Epoch 00011: ReduceLROnPlateau reducing learning rate to 0.0001250000059371814.\n",
      "54000/54000 - 12s - loss: 0.0236 - accuracy: 0.9937 - val_loss: 0.0351 - val_accuracy: 0.9918\n",
      "Epoch 12/30\n",
      "54000/54000 - 14s - loss: 0.0187 - accuracy: 0.9947 - val_loss: 0.0306 - val_accuracy: 0.9922\n",
      "Epoch 13/30\n",
      "54000/54000 - 12s - loss: 0.0179 - accuracy: 0.9949 - val_loss: 0.0280 - val_accuracy: 0.9927\n",
      "Epoch 14/30\n",
      "54000/54000 - 12s - loss: 0.0176 - accuracy: 0.9948 - val_loss: 0.0348 - val_accuracy: 0.9913\n",
      "Epoch 15/30\n",
      "54000/54000 - 10s - loss: 0.0175 - accuracy: 0.9951 - val_loss: 0.0312 - val_accuracy: 0.9928\n",
      "Epoch 16/30\n",
      "54000/54000 - 10s - loss: 0.0159 - accuracy: 0.9955 - val_loss: 0.0312 - val_accuracy: 0.9932\n",
      "Epoch 17/30\n",
      "\n",
      "Epoch 00017: ReduceLROnPlateau reducing learning rate to 6.25000029685907e-05.\n",
      "54000/54000 - 11s - loss: 0.0163 - accuracy: 0.9953 - val_loss: 0.0331 - val_accuracy: 0.9925\n",
      "Epoch 18/30\n",
      "54000/54000 - 11s - loss: 0.0154 - accuracy: 0.9956 - val_loss: 0.0300 - val_accuracy: 0.9930\n",
      "Epoch 19/30\n",
      "54000/54000 - 11s - loss: 0.0140 - accuracy: 0.9958 - val_loss: 0.0302 - val_accuracy: 0.9933\n",
      "Epoch 20/30\n",
      "54000/54000 - 12s - loss: 0.0133 - accuracy: 0.9962 - val_loss: 0.0315 - val_accuracy: 0.9923\n",
      "Epoch 21/30\n",
      "\n",
      "Epoch 00021: ReduceLROnPlateau reducing learning rate to 3.125000148429535e-05.\n",
      "54000/54000 - 11s - loss: 0.0133 - accuracy: 0.9961 - val_loss: 0.0294 - val_accuracy: 0.9930\n",
      "Epoch 22/30\n",
      "54000/54000 - 13s - loss: 0.0131 - accuracy: 0.9964 - val_loss: 0.0305 - val_accuracy: 0.9935\n",
      "Epoch 23/30\n",
      "54000/54000 - 13s - loss: 0.0119 - accuracy: 0.9966 - val_loss: 0.0305 - val_accuracy: 0.9932\n",
      "Epoch 24/30\n",
      "54000/54000 - 11s - loss: 0.0116 - accuracy: 0.9967 - val_loss: 0.0301 - val_accuracy: 0.9928\n",
      "Epoch 25/30\n",
      "\n",
      "Epoch 00025: ReduceLROnPlateau reducing learning rate to 1.5625000742147677e-05.\n",
      "54000/54000 - 11s - loss: 0.0125 - accuracy: 0.9963 - val_loss: 0.0315 - val_accuracy: 0.9930\n",
      "Epoch 26/30\n",
      "54000/54000 - 12s - loss: 0.0103 - accuracy: 0.9971 - val_loss: 0.0314 - val_accuracy: 0.9928\n",
      "Epoch 27/30\n",
      "\n",
      "Epoch 00027: ReduceLROnPlateau reducing learning rate to 7.812500371073838e-06.\n",
      "54000/54000 - 12s - loss: 0.0117 - accuracy: 0.9968 - val_loss: 0.0312 - val_accuracy: 0.9932\n",
      "Epoch 28/30\n",
      "\n",
      "Epoch 00028: ReduceLROnPlateau reducing learning rate to 3.906250185536919e-06.\n",
      "54000/54000 - 12s - loss: 0.0117 - accuracy: 0.9965 - val_loss: 0.0319 - val_accuracy: 0.9933\n",
      "Epoch 29/30\n",
      "\n",
      "Epoch 00029: ReduceLROnPlateau reducing learning rate to 1.9531250927684596e-06.\n",
      "54000/54000 - 12s - loss: 0.0109 - accuracy: 0.9967 - val_loss: 0.0319 - val_accuracy: 0.9932\n",
      "Epoch 30/30\n",
      "\n",
      "Epoch 00030: ReduceLROnPlateau reducing learning rate to 9.765625463842298e-07.\n",
      "54000/54000 - 12s - loss: 0.0113 - accuracy: 0.9967 - val_loss: 0.0314 - val_accuracy: 0.9930\n",
      "\n",
      "----- Test ------\n",
      "loss: 0.0180 acc: 0.9946\n"
     ]
    },
    {
     "data": {
      "image/png": "[encoded data removed]",
      "text/plain": [
       "<Figure size 432x288 with 1 Axes>"
      ]
     },
     "metadata": {
      "needs_background": "light"
     },
     "output_type": "display_data"
    }
   ],
   "source": [
    "optimizer = RMSprop(lr=0.001, rho=0.9, epsilon=1e-08, decay=0.0)\n",
    "model = XModel(data_conv)\n",
    "evaluate(model, data_conv, optimizer=optimizer, epochs=30)"
   ]
  },
  {
   "cell_type": "markdown",
   "metadata": {},
   "source": [
    "## La Red Residual (Residual Network, ResNet)\n",
    "\n",
    " * http://personal.cimat.mx:8181/~mrivera/cursos/aprendizaje_profundo/resnet/resnet.html\n",
    " * https://en.wikipedia.org/wiki/Residual_neural_network\n",
    "\n",
    "Una Red Residual o _ResNet_ contiene conexiones ( _skip connections_ o _shortcuts_ ) que interconectan la salida de una capa con la entrada de una capa no necesariamente contigua, saltando capas intermedias:\n",
    "\n",
    "<img src=\"img/ResNet.png\" alt=\"Residual Network\" style=\"width: 200px;\"/>\n",
    "\n",
    "De una manera conceptual, en la fase inicial del entrenamiento la red es guiada por las conexiones cortocircuito, mientras que según avanza el entrenamiento las capas cortocircuitadas comienzan a aportar, compensando a su vez la aportación del cortocircuito.\n",
    "\n",
    "### Características:\n",
    "\n",
    "   * Mitiga el problema del _desvanecimiento de gradiente_\n",
    "   * Acelera el entrenamiento\n",
    "   * Permite entrenar redes muy profundas (más de 100 capas)"
   ]
  },
  {
   "cell_type": "markdown",
   "metadata": {},
   "source": [
    "### ResNet identidad\n",
    "\n",
    "Configuración típica:\n",
    "\n",
    "   * Capas convolucionales\n",
    "   * Puente de 2/3 capas\n",
    "   * El cortocircuito se añade antes de la no linealidad\n",
    "\n",
    "<img src=\"img/resnet_identidad.png\" alt=\"resnet identidad\" style=\"width: 400px;\"/>"
   ]
  },
  {
   "cell_type": "markdown",
   "metadata": {},
   "source": [
    "### ResNet convolucional\n",
    "\n",
    "Configuración típica:\n",
    "\n",
    "   * Capas convolucionales\n",
    "   * Puente de 2/3 capas\n",
    "   * El cortocircuito se añade antes de la no linealidad\n",
    "   * Las dimensiones no coinciden.\n",
    "      * Se añade una capa convolucional al cortocircuito\n",
    "      * No se añade no linealidad\n",
    "\n",
    "<img src=\"img/resnet_conv.png\" alt=\"resnet_conv\" style=\"width: 400px;\"/>\n"
   ]
  },
  {
   "cell_type": "markdown",
   "metadata": {},
   "source": [
    "### RestNet50\n",
    "<img src=\"img/resnet50.png\" alt=\"resnet50\" style=\"width: 800px;\"/>"
   ]
  },
  {
   "cell_type": "markdown",
   "metadata": {},
   "source": [
    "### ImageNet Challenge\n",
    "\n",
    "* Detección de 1000 categorías de objetos en imágenes\n",
    "\n",
    "|    Red    |  Año | Capas | % Error |\n",
    "|:---------:|:----:|:-----:|:-------:|\n",
    "|  AlexNet  | 2013 |   8   |   11.7  |\n",
    "|    VGG    | 2014 |   19  |   7.3   |\n",
    "| Inception | 2014 |   22  |   6.7   |\n",
    "|   ResNet  | 2015 |  152  |   3.6   |\n"
   ]
  },
  {
   "cell_type": "markdown",
   "metadata": {},
   "source": [
    "### Implementación de una RestNet\n",
    "* No es una red secuencial\n",
    "* No podemos implementarla mediante `tensorflow.keras.models.Sequential`\n",
    "* TensorFlow permite una descripción *funcional* del modelo\n",
    "    * Muy similar a lo visto previamente\n",
    "    * Mayor livertad de diseño"
   ]
  },
  {
   "cell_type": "markdown",
   "metadata": {},
   "source": [
    "### Logistic Regression - Functional API\n",
    "\n",
    "Implementación previa (`Sequential`):\n",
    "\n",
    "```python\n",
    "def LR(data):    \n",
    "    model = Sequential()  \n",
    "    model.add(Flatten(input_shape=data.input_shape))\n",
    "    model.add(Dense(data.output_categories, activation='softmax'))\n",
    "    return model\n",
    "```\n",
    "\n",
    "Implementación funcional:"
   ]
  },
  {
   "cell_type": "code",
   "execution_count": 44,
   "metadata": {},
   "outputs": [],
   "source": [
    "from tensorflow.keras import Input, Model\n",
    "\n",
    "def LR(data):\n",
    "\n",
    "    x_input = Input(shape=data.input_shape)\n",
    "\n",
    "    x = Flatten()(x_input)\n",
    "    x = Dense(data.output_categories, activation='softmax')(x)\n",
    "    \n",
    "    return Model(x_input, x)"
   ]
  },
  {
   "cell_type": "code",
   "execution_count": 45,
   "metadata": {},
   "outputs": [
    {
     "name": "stdout",
     "output_type": "stream",
     "text": [
      "Model: \"model\"\n",
      "_________________________________________________________________\n",
      "Layer (type)                 Output Shape              Param #   \n",
      "=================================================================\n",
      "input_1 (InputLayer)         [(None, 28, 28)]          0         \n",
      "_________________________________________________________________\n",
      "flatten_15 (Flatten)         (None, 784)               0         \n",
      "_________________________________________________________________\n",
      "dense_40 (Dense)             (None, 10)                7850      \n",
      "=================================================================\n",
      "Total params: 7,850\n",
      "Trainable params: 7,850\n",
      "Non-trainable params: 0\n",
      "_________________________________________________________________\n",
      "\n",
      "----- Train -----\n",
      "Train on 54000 samples, validate on 6000 samples\n",
      "Epoch 1/10\n",
      "54000/54000 - 5s - loss: 0.4883 - accuracy: 0.8735 - val_loss: 0.3218 - val_accuracy: 0.9142\n",
      "Epoch 2/10\n",
      "54000/54000 - 5s - loss: 0.3102 - accuracy: 0.9139 - val_loss: 0.2885 - val_accuracy: 0.9210\n",
      "Epoch 3/10\n",
      "54000/54000 - 5s - loss: 0.2881 - accuracy: 0.9191 - val_loss: 0.2767 - val_accuracy: 0.9237\n",
      "Epoch 4/10\n",
      "54000/54000 - 5s - loss: 0.2766 - accuracy: 0.9226 - val_loss: 0.2709 - val_accuracy: 0.9257\n",
      "Epoch 5/10\n",
      "54000/54000 - 5s - loss: 0.2697 - accuracy: 0.9249 - val_loss: 0.2683 - val_accuracy: 0.9248\n",
      "Epoch 6/10\n",
      "54000/54000 - 6s - loss: 0.2648 - accuracy: 0.9264 - val_loss: 0.2654 - val_accuracy: 0.9288\n",
      "Epoch 7/10\n",
      "54000/54000 - 5s - loss: 0.2611 - accuracy: 0.9276 - val_loss: 0.2633 - val_accuracy: 0.9287\n",
      "Epoch 8/10\n",
      "54000/54000 - 6s - loss: 0.2576 - accuracy: 0.9286 - val_loss: 0.2622 - val_accuracy: 0.9280\n",
      "Epoch 9/10\n",
      "54000/54000 - 5s - loss: 0.2553 - accuracy: 0.9289 - val_loss: 0.2637 - val_accuracy: 0.9268\n",
      "Epoch 10/10\n",
      "54000/54000 - 7s - loss: 0.2531 - accuracy: 0.9297 - val_loss: 0.2611 - val_accuracy: 0.9282\n",
      "\n",
      "----- Test ------\n",
      "loss: 0.2673 acc: 0.9255\n"
     ]
    },
    {
     "data": {
      "image/png": "[encoded data removed]",
      "text/plain": [
       "<Figure size 432x288 with 1 Axes>"
      ]
     },
     "metadata": {
      "needs_background": "light"
     },
     "output_type": "display_data"
    }
   ],
   "source": [
    "model = LR(data)\n",
    "evaluate(model, data, epochs=10)"
   ]
  },
  {
   "cell_type": "markdown",
   "metadata": {},
   "source": [
    "### DNN - Functional API\n",
    "\n",
    "Implementación previa (`Sequential`):\n",
    "\n",
    "```python\n",
    "def DNN(data, hidden=(), activation='relu', dropout=0.2):\n",
    "    model = Sequential()\n",
    "    model.add(Flatten(input_shape=data.input_shape))\n",
    "    for h in hidden :\n",
    "        model.add(Dense(h, activation=activation))\n",
    "        if dropout :\n",
    "            model.add(Dropout(dropout))\n",
    "    model.add(Dense(data.output_categories, activation='softmax'))\n",
    "    return model\n",
    "```\n",
    "\n",
    "Implementación funcional:"
   ]
  },
  {
   "cell_type": "code",
   "execution_count": 46,
   "metadata": {},
   "outputs": [],
   "source": [
    "from tensorflow.keras.layers import Dropout\n",
    "    \n",
    "def DNN(data, hidden=(), activation='relu', dropout=0.2):\n",
    "\n",
    "    x_input = Input(shape=data.input_shape)\n",
    "\n",
    "    x = Flatten()(x_input)\n",
    "    for h in hidden :\n",
    "        x = Dense(h, activation=activation)(x)\n",
    "        if dropout :\n",
    "            x = Dropout(dropout)(x)\n",
    "    x = Dense(data.output_categories, activation='softmax')(x)\n",
    "    \n",
    "    return Model(x_input, x)"
   ]
  },
  {
   "cell_type": "code",
   "execution_count": 47,
   "metadata": {},
   "outputs": [
    {
     "name": "stdout",
     "output_type": "stream",
     "text": [
      "Model: \"model_1\"\n",
      "_________________________________________________________________\n",
      "Layer (type)                 Output Shape              Param #   \n",
      "=================================================================\n",
      "input_2 (InputLayer)         [(None, 28, 28)]          0         \n",
      "_________________________________________________________________\n",
      "flatten_16 (Flatten)         (None, 784)               0         \n",
      "_________________________________________________________________\n",
      "dense_41 (Dense)             (None, 128)               100480    \n",
      "_________________________________________________________________\n",
      "dropout_18 (Dropout)         (None, 128)               0         \n",
      "_________________________________________________________________\n",
      "dense_42 (Dense)             (None, 64)                8256      \n",
      "_________________________________________________________________\n",
      "dropout_19 (Dropout)         (None, 64)                0         \n",
      "_________________________________________________________________\n",
      "dense_43 (Dense)             (None, 32)                2080      \n",
      "_________________________________________________________________\n",
      "dropout_20 (Dropout)         (None, 32)                0         \n",
      "_________________________________________________________________\n",
      "dense_44 (Dense)             (None, 10)                330       \n",
      "=================================================================\n",
      "Total params: 111,146\n",
      "Trainable params: 111,146\n",
      "Non-trainable params: 0\n",
      "_________________________________________________________________\n",
      "\n",
      "----- Train -----\n",
      "Train on 54000 samples, validate on 6000 samples\n",
      "Epoch 1/10\n",
      "54000/54000 - 9s - loss: 0.4440 - accuracy: 0.8685 - val_loss: 0.1486 - val_accuracy: 0.9553\n",
      "Epoch 2/10\n",
      "54000/54000 - 9s - loss: 0.2072 - accuracy: 0.9433 - val_loss: 0.1074 - val_accuracy: 0.9685\n",
      "Epoch 3/10\n",
      "54000/54000 - 7s - loss: 0.1654 - accuracy: 0.9554 - val_loss: 0.0971 - val_accuracy: 0.9717\n",
      "Epoch 4/10\n",
      "54000/54000 - 9s - loss: 0.1395 - accuracy: 0.9611 - val_loss: 0.0962 - val_accuracy: 0.9718\n",
      "Epoch 5/10\n",
      "54000/54000 - 10s - loss: 0.1234 - accuracy: 0.9661 - val_loss: 0.0853 - val_accuracy: 0.9753\n",
      "Epoch 6/10\n",
      "54000/54000 - 10s - loss: 0.1114 - accuracy: 0.9686 - val_loss: 0.0868 - val_accuracy: 0.9765\n",
      "Epoch 7/10\n",
      "54000/54000 - 9s - loss: 0.0973 - accuracy: 0.9726 - val_loss: 0.0731 - val_accuracy: 0.9795\n",
      "Epoch 8/10\n",
      "54000/54000 - 9s - loss: 0.0931 - accuracy: 0.9737 - val_loss: 0.0761 - val_accuracy: 0.9782\n",
      "Epoch 9/10\n",
      "54000/54000 - 9s - loss: 0.0893 - accuracy: 0.9744 - val_loss: 0.0728 - val_accuracy: 0.9793\n",
      "Epoch 10/10\n",
      "54000/54000 - 9s - loss: 0.0799 - accuracy: 0.9771 - val_loss: 0.0882 - val_accuracy: 0.9752\n",
      "\n",
      "----- Test ------\n",
      "loss: 0.0886 acc: 0.9757\n"
     ]
    },
    {
     "data": {
      "image/png": "[encoded data removed]",
      "text/plain": [
       "<Figure size 432x288 with 1 Axes>"
      ]
     },
     "metadata": {
      "needs_background": "light"
     },
     "output_type": "display_data"
    }
   ],
   "source": [
    "model = DNN(data, hidden=(128,64,32))\n",
    "evaluate(model, data)"
   ]
  },
  {
   "cell_type": "markdown",
   "metadata": {},
   "source": [
    "### CNN - Functional API\n",
    "\n",
    "Implementación previa (`Sequential`):\n",
    "\n",
    "```python\n",
    "def CNN(data, activation='relu',dropout=0.2):\n",
    "    \n",
    "    model = Sequential()\n",
    "    \n",
    "    model.add(Conv2D(filters=32, kernel_size=3, padding='same', activation=activation, input_shape=data.input_shape))\n",
    "    model.add(MaxPool2D(pool_size=(2,2)))\n",
    "    model.add(Dropout(dropout))\n",
    "    \n",
    "    model.add(Conv2D(filters=32, kernel_size=3, padding='same', activation=activation))\n",
    "    model.add(MaxPool2D(pool_size=(2,2)))\n",
    "    model.add(Dropout(dropout))\n",
    "    \n",
    "    model.add(Conv2D(filters=64, kernel_size=3, padding='same', activation=activation))\n",
    "    model.add(MaxPool2D(pool_size=(2,2)))\n",
    "    model.add(Dropout(dropout))\n",
    "        \n",
    "    model.add(GlobalAveragePooling2D())\n",
    "    model.add(Dense(data.output_categories, activation='softmax'))\n",
    "    \n",
    "    return model\n",
    "```\n",
    "\n",
    "Implementación funcional:"
   ]
  },
  {
   "cell_type": "code",
   "execution_count": 48,
   "metadata": {},
   "outputs": [],
   "source": [
    "def CNN(data, activation='relu',dropout=0.2):\n",
    "    \n",
    "    x_input = Input(shape=data.input_shape)\n",
    "\n",
    "    x = Conv2D(filters=32, kernel_size=3, padding='same', activation=activation)(x_input)\n",
    "    x = MaxPool2D(pool_size=(2,2))(x)\n",
    "    x = Dropout(dropout)(x)\n",
    "    \n",
    "    x = Conv2D(filters=32, kernel_size=3, padding='same', activation=activation)(x)\n",
    "    x = MaxPool2D(pool_size=(2,2))(x)\n",
    "    x = Dropout(dropout)(x)\n",
    "    \n",
    "    x = Conv2D(filters=64, kernel_size=3, padding='same', activation=activation)(x)\n",
    "    x = MaxPool2D(pool_size=(2,2))(x)\n",
    "    x = Dropout(dropout)(x)\n",
    "        \n",
    "    x = GlobalAveragePooling2D()(x)\n",
    "    x = Dense(data.output_categories, activation='softmax')(x)\n",
    "    \n",
    "    return Model(x_input, x)"
   ]
  },
  {
   "cell_type": "code",
   "execution_count": 49,
   "metadata": {},
   "outputs": [
    {
     "name": "stdout",
     "output_type": "stream",
     "text": [
      "Model: \"sequential_16\"\n",
      "_________________________________________________________________\n",
      "Layer (type)                 Output Shape              Param #   \n",
      "=================================================================\n",
      "conv2d_16 (Conv2D)           (None, 28, 28, 32)        320       \n",
      "_________________________________________________________________\n",
      "max_pooling2d_14 (MaxPooling (None, 14, 14, 32)        0         \n",
      "_________________________________________________________________\n",
      "dropout_21 (Dropout)         (None, 14, 14, 32)        0         \n",
      "_________________________________________________________________\n",
      "conv2d_17 (Conv2D)           (None, 14, 14, 32)        9248      \n",
      "_________________________________________________________________\n",
      "max_pooling2d_15 (MaxPooling (None, 7, 7, 32)          0         \n",
      "_________________________________________________________________\n",
      "dropout_22 (Dropout)         (None, 7, 7, 32)          0         \n",
      "_________________________________________________________________\n",
      "conv2d_18 (Conv2D)           (None, 7, 7, 64)          18496     \n",
      "_________________________________________________________________\n",
      "max_pooling2d_16 (MaxPooling (None, 3, 3, 64)          0         \n",
      "_________________________________________________________________\n",
      "dropout_23 (Dropout)         (None, 3, 3, 64)          0         \n",
      "_________________________________________________________________\n",
      "global_average_pooling2d_1 ( (None, 64)                0         \n",
      "_________________________________________________________________\n",
      "dense_45 (Dense)             (None, 10)                650       \n",
      "=================================================================\n",
      "Total params: 28,714\n",
      "Trainable params: 28,714\n",
      "Non-trainable params: 0\n",
      "_________________________________________________________________\n",
      "\n",
      "----- Train -----\n",
      "Train on 54000 samples, validate on 6000 samples\n",
      "Epoch 1/20\n",
      "54000/54000 - 13s - loss: 0.4883 - accuracy: 0.8431 - val_loss: 0.1305 - val_accuracy: 0.9617\n",
      "Epoch 2/20\n",
      "54000/54000 - 12s - loss: 0.1643 - accuracy: 0.9502 - val_loss: 0.0777 - val_accuracy: 0.9792\n",
      "Epoch 3/20\n",
      "54000/54000 - 10s - loss: 0.1217 - accuracy: 0.9627 - val_loss: 0.0599 - val_accuracy: 0.9837\n",
      "Epoch 4/20\n",
      "54000/54000 - 11s - loss: 0.0975 - accuracy: 0.9699 - val_loss: 0.0588 - val_accuracy: 0.9840\n",
      "Epoch 5/20\n",
      "54000/54000 - 11s - loss: 0.0851 - accuracy: 0.9732 - val_loss: 0.0489 - val_accuracy: 0.9873\n",
      "Epoch 6/20\n",
      "54000/54000 - 11s - loss: 0.0730 - accuracy: 0.9775 - val_loss: 0.0463 - val_accuracy: 0.9867\n",
      "Epoch 7/20\n",
      "54000/54000 - 9s - loss: 0.0682 - accuracy: 0.9793 - val_loss: 0.0419 - val_accuracy: 0.9883\n",
      "Epoch 8/20\n",
      "54000/54000 - 10s - loss: 0.0620 - accuracy: 0.9806 - val_loss: 0.0332 - val_accuracy: 0.9898\n",
      "Epoch 9/20\n",
      "54000/54000 - 12s - loss: 0.0594 - accuracy: 0.9818 - val_loss: 0.0395 - val_accuracy: 0.9878\n",
      "Epoch 10/20\n",
      "54000/54000 - 12s - loss: 0.0541 - accuracy: 0.9826 - val_loss: 0.0370 - val_accuracy: 0.9888\n",
      "Epoch 11/20\n",
      "54000/54000 - 12s - loss: 0.0507 - accuracy: 0.9839 - val_loss: 0.0306 - val_accuracy: 0.9893\n",
      "Epoch 12/20\n",
      "54000/54000 - 11s - loss: 0.0480 - accuracy: 0.9850 - val_loss: 0.0299 - val_accuracy: 0.9908\n",
      "Epoch 13/20\n",
      "54000/54000 - 10s - loss: 0.0473 - accuracy: 0.9844 - val_loss: 0.0324 - val_accuracy: 0.9902\n",
      "Epoch 14/20\n",
      "54000/54000 - 11s - loss: 0.0450 - accuracy: 0.9856 - val_loss: 0.0271 - val_accuracy: 0.9922\n",
      "Epoch 15/20\n",
      "54000/54000 - 12s - loss: 0.0427 - accuracy: 0.9864 - val_loss: 0.0275 - val_accuracy: 0.9922\n",
      "Epoch 16/20\n",
      "54000/54000 - 12s - loss: 0.0416 - accuracy: 0.9866 - val_loss: 0.0294 - val_accuracy: 0.9905\n",
      "Epoch 17/20\n",
      "54000/54000 - 12s - loss: 0.0407 - accuracy: 0.9871 - val_loss: 0.0244 - val_accuracy: 0.9917\n",
      "Epoch 18/20\n",
      "54000/54000 - 11s - loss: 0.0393 - accuracy: 0.9874 - val_loss: 0.0280 - val_accuracy: 0.9920\n",
      "Epoch 19/20\n",
      "54000/54000 - 12s - loss: 0.0375 - accuracy: 0.9878 - val_loss: 0.0272 - val_accuracy: 0.9913\n",
      "Epoch 20/20\n",
      "54000/54000 - 12s - loss: 0.0368 - accuracy: 0.9879 - val_loss: 0.0258 - val_accuracy: 0.9908\n",
      "\n",
      "----- Test ------\n",
      "loss: 0.0234 acc: 0.9917\n"
     ]
    },
    {
     "data": {
      "image/png": "[encoded data removed]",
      "text/plain": [
       "<Figure size 432x288 with 1 Axes>"
      ]
     },
     "metadata": {
      "needs_background": "light"
     },
     "output_type": "display_data"
    }
   ],
   "source": [
    "model = CNNgap(data_conv)\n",
    "evaluate(model, data_conv, epochs=20)"
   ]
  },
  {
   "cell_type": "markdown",
   "metadata": {},
   "source": [
    "### RestNet - Functional API (no hay otra...)\n"
   ]
  },
  {
   "cell_type": "code",
   "execution_count": 50,
   "metadata": {},
   "outputs": [],
   "source": [
    "from tensorflow.keras.layers import Add\n",
    "\n",
    "def ResNet(data,n=1):\n",
    "\n",
    "    x_input = Input(shape=data.input_shape)\n",
    "    \n",
    "    x = Conv2D(filters = 32, kernel_size = (5,5), padding = 'Same')(x_input)\n",
    "    x = BatchNormalization()(x)\n",
    "    x = Activation(activation='relu')(x)\n",
    "\n",
    "    for i in range(n):\n",
    "        x_id = x\n",
    "        x = Conv2D(filters = 32, kernel_size = (5,5), padding = 'Same')(x_input)\n",
    "        x = BatchNormalization()(x)\n",
    "        x = Activation(activation='relu')(x)\n",
    "        x = Conv2D(filters = 32, kernel_size = (5,5), padding = 'Same')(x)\n",
    "        x = BatchNormalization()(x)\n",
    "        x = Add()([x, x_id])\n",
    "        x = Activation(activation='relu')(x)\n",
    "    x = MaxPool2D(pool_size=(2,2))(x)\n",
    "    \n",
    "    x = Conv2D(filters = 64, kernel_size = (3,3), padding = 'Same')(x)\n",
    "    x = BatchNormalization()(x)\n",
    "    x = Activation(activation='relu')(x)\n",
    "\n",
    "    for i in range(n):\n",
    "        x_id = x\n",
    "        x = Conv2D(filters = 64, kernel_size = (3,3), padding = 'Same')(x)\n",
    "        x = BatchNormalization()(x)\n",
    "        x = Activation(activation='relu')(x)\n",
    "        x = Conv2D(filters = 64, kernel_size = (3,3), padding = 'Same')(x)\n",
    "        x = BatchNormalization()(x)\n",
    "        x = Add()([x, x_id])\n",
    "        x = Activation(activation='relu')(x)\n",
    "    x = MaxPool2D(pool_size=(2,2), strides=(2,2))(x)\n",
    "\n",
    "    x = GlobalAveragePooling2D()(x)\n",
    "    \n",
    "    x = Dense(data.output_categories, activation = \"softmax\")(x)    \n",
    "\n",
    "    return Model(x_input, x)"
   ]
  },
  {
   "cell_type": "code",
   "execution_count": 51,
   "metadata": {},
   "outputs": [
    {
     "name": "stdout",
     "output_type": "stream",
     "text": [
      "Skipping model Summary... it has 25 Layers!\n",
      "Total params: 121450\n",
      "Trainable params: 120874\n",
      "Non-trainable params: 576\n",
      "\n",
      "----- Train -----\n",
      "Train on 54000 samples, validate on 6000 samples\n",
      "Epoch 1/20\n",
      "54000/54000 - 16s - loss: 0.1649 - accuracy: 0.9615 - val_loss: 11.5962 - val_accuracy: 0.1472\n",
      "Epoch 2/20\n",
      "54000/54000 - 17s - loss: 0.0501 - accuracy: 0.9861 - val_loss: 5.2290 - val_accuracy: 0.3297\n",
      "Epoch 3/20\n",
      "54000/54000 - 18s - loss: 0.0376 - accuracy: 0.9886 - val_loss: 4.9166 - val_accuracy: 0.3485\n",
      "Epoch 4/20\n",
      "54000/54000 - 17s - loss: 0.0325 - accuracy: 0.9900 - val_loss: 6.2439 - val_accuracy: 0.3212\n",
      "Epoch 5/20\n",
      "54000/54000 - 18s - loss: 0.0271 - accuracy: 0.9916 - val_loss: 1.6991 - val_accuracy: 0.6115\n",
      "Epoch 6/20\n",
      "54000/54000 - 17s - loss: 0.0239 - accuracy: 0.9926 - val_loss: 2.4312 - val_accuracy: 0.5857\n",
      "Epoch 7/20\n",
      "54000/54000 - 14s - loss: 0.0204 - accuracy: 0.9935 - val_loss: 1.0743 - val_accuracy: 0.6698\n",
      "Epoch 8/20\n",
      "54000/54000 - 17s - loss: 0.0181 - accuracy: 0.9947 - val_loss: 1.4910 - val_accuracy: 0.6333\n",
      "Epoch 9/20\n",
      "54000/54000 - 16s - loss: 0.0172 - accuracy: 0.9943 - val_loss: 2.3579 - val_accuracy: 0.6525\n",
      "Epoch 10/20\n",
      "54000/54000 - 16s - loss: 0.0159 - accuracy: 0.9952 - val_loss: 1.1453 - val_accuracy: 0.7243\n",
      "Epoch 11/20\n",
      "54000/54000 - 16s - loss: 0.0127 - accuracy: 0.9959 - val_loss: 3.8526 - val_accuracy: 0.4843\n",
      "Epoch 12/20\n",
      "54000/54000 - 16s - loss: 0.0111 - accuracy: 0.9962 - val_loss: 0.5832 - val_accuracy: 0.8278\n",
      "Epoch 13/20\n",
      "\n",
      "Epoch 00013: ReduceLROnPlateau reducing learning rate to 0.0005000000237487257.\n",
      "54000/54000 - 16s - loss: 0.0110 - accuracy: 0.9966 - val_loss: 0.3197 - val_accuracy: 0.8772\n",
      "Epoch 14/20\n",
      "54000/54000 - 17s - loss: 0.0054 - accuracy: 0.9985 - val_loss: 0.0302 - val_accuracy: 0.9907\n",
      "Epoch 15/20\n",
      "54000/54000 - 18s - loss: 0.0043 - accuracy: 0.9988 - val_loss: 0.0459 - val_accuracy: 0.9877\n",
      "Epoch 16/20\n",
      "54000/54000 - 18s - loss: 0.0038 - accuracy: 0.9989 - val_loss: 0.0239 - val_accuracy: 0.9938\n",
      "Epoch 17/20\n",
      "54000/54000 - 18s - loss: 0.0033 - accuracy: 0.9991 - val_loss: 0.0410 - val_accuracy: 0.9895\n",
      "Epoch 18/20\n",
      "54000/54000 - 18s - loss: 0.0025 - accuracy: 0.9994 - val_loss: 0.0271 - val_accuracy: 0.9927\n",
      "Epoch 19/20\n",
      "\n",
      "Epoch 00019: ReduceLROnPlateau reducing learning rate to 0.0002500000118743628.\n",
      "54000/54000 - 17s - loss: 0.0032 - accuracy: 0.9991 - val_loss: 0.0832 - val_accuracy: 0.9797\n",
      "Epoch 20/20\n",
      "54000/54000 - 18s - loss: 0.0016 - accuracy: 0.9996 - val_loss: 0.0219 - val_accuracy: 0.9935\n",
      "\n",
      "----- Test ------\n",
      "loss: 0.0158 acc: 0.9952\n"
     ]
    },
    {
     "data": {
      "image/png": "[encoded data removed]",
      "text/plain": [
       "<Figure size 432x288 with 1 Axes>"
      ]
     },
     "metadata": {
      "needs_background": "light"
     },
     "output_type": "display_data"
    }
   ],
   "source": [
    "model = ResNet(data_conv)\n",
    "#model.summary()\n",
    "evaluate(model, data_conv, epochs=20)"
   ]
  },
  {
   "cell_type": "code",
   "execution_count": 52,
   "metadata": {},
   "outputs": [
    {
     "name": "stdout",
     "output_type": "stream",
     "text": [
      "Skipping model Summary... it has 151 Layers!\n",
      "Total params: 1031242\n",
      "Trainable params: 1027210\n",
      "Non-trainable params: 4032\n",
      "\n",
      "----- Train -----\n",
      "Train on 54000 samples, validate on 6000 samples\n",
      "Epoch 1/30\n",
      "54000/54000 - 79s - loss: 0.1201 - accuracy: 0.9653 - val_loss: 0.9386 - val_accuracy: 0.6955\n",
      "Epoch 2/30\n",
      "54000/54000 - 70s - loss: 0.0521 - accuracy: 0.9839 - val_loss: 4.8157 - val_accuracy: 0.2950\n",
      "Epoch 3/30\n",
      "54000/54000 - 71s - loss: 0.0434 - accuracy: 0.9869 - val_loss: 1.3138 - val_accuracy: 0.6125\n",
      "Epoch 4/30\n",
      "54000/54000 - 70s - loss: 0.0374 - accuracy: 0.9889 - val_loss: 0.0729 - val_accuracy: 0.9812\n",
      "Epoch 5/30\n",
      "54000/54000 - 70s - loss: 0.0328 - accuracy: 0.9896 - val_loss: 0.1169 - val_accuracy: 0.9625\n",
      "Epoch 6/30\n",
      "54000/54000 - 70s - loss: 0.0262 - accuracy: 0.9919 - val_loss: 0.2964 - val_accuracy: 0.9248\n",
      "Epoch 7/30\n",
      "54000/54000 - 68s - loss: 0.0247 - accuracy: 0.9925 - val_loss: 0.0976 - val_accuracy: 0.9710\n",
      "Epoch 8/30\n",
      "54000/54000 - 70s - loss: 0.0221 - accuracy: 0.9929 - val_loss: 0.0669 - val_accuracy: 0.9818\n",
      "Epoch 9/30\n",
      "54000/54000 - 70s - loss: 0.0205 - accuracy: 0.9937 - val_loss: 0.1291 - val_accuracy: 0.9633\n",
      "Epoch 10/30\n",
      "54000/54000 - 71s - loss: 0.0169 - accuracy: 0.9945 - val_loss: 0.0492 - val_accuracy: 0.9855\n",
      "Epoch 11/30\n",
      "54000/54000 - 70s - loss: 0.0150 - accuracy: 0.9953 - val_loss: 0.0700 - val_accuracy: 0.9792\n",
      "Epoch 12/30\n",
      "54000/54000 - 70s - loss: 0.0144 - accuracy: 0.9957 - val_loss: 0.0982 - val_accuracy: 0.9730\n",
      "Epoch 13/30\n",
      "54000/54000 - 70s - loss: 0.0134 - accuracy: 0.9962 - val_loss: 0.0541 - val_accuracy: 0.9848\n",
      "Epoch 14/30\n",
      "54000/54000 - 72s - loss: 0.0131 - accuracy: 0.9959 - val_loss: 0.0718 - val_accuracy: 0.9795\n",
      "Epoch 15/30\n",
      "54000/54000 - 67s - loss: 0.0110 - accuracy: 0.9965 - val_loss: 0.0323 - val_accuracy: 0.9902\n",
      "Epoch 16/30\n",
      "54000/54000 - 69s - loss: 0.0108 - accuracy: 0.9965 - val_loss: 0.0709 - val_accuracy: 0.9823\n",
      "Epoch 17/30\n",
      "54000/54000 - 69s - loss: 0.0080 - accuracy: 0.9974 - val_loss: 0.0425 - val_accuracy: 0.9882\n",
      "Epoch 18/30\n",
      "\n",
      "Epoch 00018: ReduceLROnPlateau reducing learning rate to 0.0005000000237487257.\n",
      "54000/54000 - 71s - loss: 0.0094 - accuracy: 0.9969 - val_loss: 0.0814 - val_accuracy: 0.9790\n",
      "Epoch 19/30\n",
      "54000/54000 - 72s - loss: 0.0036 - accuracy: 0.9990 - val_loss: 0.0253 - val_accuracy: 0.9940\n",
      "Epoch 20/30\n",
      "54000/54000 - 71s - loss: 0.0025 - accuracy: 0.9993 - val_loss: 0.0265 - val_accuracy: 0.9932\n",
      "Epoch 21/30\n",
      "\n",
      "Epoch 00021: ReduceLROnPlateau reducing learning rate to 0.0002500000118743628.\n",
      "54000/54000 - 66s - loss: 0.0034 - accuracy: 0.9990 - val_loss: 0.0246 - val_accuracy: 0.9942\n",
      "Epoch 22/30\n",
      "54000/54000 - 67s - loss: 9.9953e-04 - accuracy: 0.9997 - val_loss: 0.0225 - val_accuracy: 0.9942\n",
      "Epoch 23/30\n",
      "\n",
      "Epoch 00023: ReduceLROnPlateau reducing learning rate to 0.0001250000059371814.\n",
      "54000/54000 - 68s - loss: 9.6629e-04 - accuracy: 0.9997 - val_loss: 0.0251 - val_accuracy: 0.9942\n",
      "Epoch 24/30\n",
      "54000/54000 - 71s - loss: 4.5906e-04 - accuracy: 0.9999 - val_loss: 0.0204 - val_accuracy: 0.9948\n",
      "Epoch 25/30\n",
      "54000/54000 - 71s - loss: 2.9991e-04 - accuracy: 1.0000 - val_loss: 0.0209 - val_accuracy: 0.9945\n",
      "Epoch 26/30\n",
      "\n",
      "Epoch 00026: ReduceLROnPlateau reducing learning rate to 6.25000029685907e-05.\n",
      "54000/54000 - 70s - loss: 3.5256e-04 - accuracy: 0.9999 - val_loss: 0.0232 - val_accuracy: 0.9942\n",
      "Epoch 27/30\n",
      "54000/54000 - 70s - loss: 1.4989e-04 - accuracy: 1.0000 - val_loss: 0.0218 - val_accuracy: 0.9948\n",
      "Epoch 28/30\n",
      "\n",
      "Epoch 00028: ReduceLROnPlateau reducing learning rate to 3.125000148429535e-05.\n",
      "54000/54000 - 71s - loss: 1.2138e-04 - accuracy: 1.0000 - val_loss: 0.0223 - val_accuracy: 0.9948\n",
      "Epoch 29/30\n",
      "\n",
      "Epoch 00029: ReduceLROnPlateau reducing learning rate to 1.5625000742147677e-05.\n",
      "54000/54000 - 71s - loss: 1.2016e-04 - accuracy: 1.0000 - val_loss: 0.0228 - val_accuracy: 0.9948\n",
      "Epoch 30/30\n",
      "\n",
      "Epoch 00030: ReduceLROnPlateau reducing learning rate to 7.812500371073838e-06.\n",
      "54000/54000 - 69s - loss: 8.3755e-05 - accuracy: 1.0000 - val_loss: 0.0224 - val_accuracy: 0.9945\n",
      "\n",
      "----- Test ------\n",
      "loss: 0.0157 acc: 0.9967\n"
     ]
    },
    {
     "data": {
      "image/png": "[encoded data removed]",
      "text/plain": [
       "<Figure size 432x288 with 1 Axes>"
      ]
     },
     "metadata": {
      "needs_background": "light"
     },
     "output_type": "display_data"
    }
   ],
   "source": [
    "model = ResNet(data_conv,n=10)\n",
    "evaluate(model, data_conv, epochs=30)"
   ]
  },
  {
   "cell_type": "code",
   "execution_count": 53,
   "metadata": {},
   "outputs": [],
   "source": [
    "def ResNet2(data):\n",
    "    \n",
    "    x_input = Input(shape=data.input_shape)\n",
    "    \n",
    "    x = Conv2D(32, 3, activation='relu')(x_input)\n",
    "    x = Conv2D(64, 3, activation='relu')(x)\n",
    "    block_1_output = MaxPool2D(3)(x)\n",
    "\n",
    "    x = Conv2D(64, 3, activation='relu', padding='same')(block_1_output)\n",
    "    x = Conv2D(64, 3, activation='relu', padding='same')(x)\n",
    "    block_2_output = Add()([x, block_1_output])\n",
    "\n",
    "    x = Conv2D(64, 3, activation='relu', padding='same')(block_2_output)\n",
    "    x = Conv2D(64, 3, activation='relu', padding='same')(x)\n",
    "    block_3_output = Add()([x, block_2_output])\n",
    "\n",
    "    x = Conv2D(64, 3, activation='relu')(block_3_output)\n",
    "    x = GlobalAveragePooling2D()(x)\n",
    "    \n",
    "    x = Dense(256, activation='relu')(x)\n",
    "    x = Dropout(0.5)(x)    \n",
    "    x = Dense(data.output_categories, activation = \"softmax\")(x)    \n",
    "\n",
    "    return Model(x_input, x)"
   ]
  },
  {
   "cell_type": "code",
   "execution_count": 54,
   "metadata": {
    "scrolled": false
   },
   "outputs": [
    {
     "name": "stdout",
     "output_type": "stream",
     "text": [
      "Model: \"model_4\"\n",
      "__________________________________________________________________________________________________\n",
      "Layer (type)                    Output Shape         Param #     Connected to                     \n",
      "==================================================================================================\n",
      "input_5 (InputLayer)            [(None, 28, 28, 1)]  0                                            \n",
      "__________________________________________________________________________________________________\n",
      "conv2d_67 (Conv2D)              (None, 26, 26, 32)   320         input_5[0][0]                    \n",
      "__________________________________________________________________________________________________\n",
      "conv2d_68 (Conv2D)              (None, 24, 24, 64)   18496       conv2d_67[0][0]                  \n",
      "__________________________________________________________________________________________________\n",
      "max_pooling2d_21 (MaxPooling2D) (None, 8, 8, 64)     0           conv2d_68[0][0]                  \n",
      "__________________________________________________________________________________________________\n",
      "conv2d_69 (Conv2D)              (None, 8, 8, 64)     36928       max_pooling2d_21[0][0]           \n",
      "__________________________________________________________________________________________________\n",
      "conv2d_70 (Conv2D)              (None, 8, 8, 64)     36928       conv2d_69[0][0]                  \n",
      "__________________________________________________________________________________________________\n",
      "add_22 (Add)                    (None, 8, 8, 64)     0           conv2d_70[0][0]                  \n",
      "                                                                 max_pooling2d_21[0][0]           \n",
      "__________________________________________________________________________________________________\n",
      "conv2d_71 (Conv2D)              (None, 8, 8, 64)     36928       add_22[0][0]                     \n",
      "__________________________________________________________________________________________________\n",
      "conv2d_72 (Conv2D)              (None, 8, 8, 64)     36928       conv2d_71[0][0]                  \n",
      "__________________________________________________________________________________________________\n",
      "add_23 (Add)                    (None, 8, 8, 64)     0           conv2d_72[0][0]                  \n",
      "                                                                 add_22[0][0]                     \n",
      "__________________________________________________________________________________________________\n",
      "conv2d_73 (Conv2D)              (None, 6, 6, 64)     36928       add_23[0][0]                     \n",
      "__________________________________________________________________________________________________\n",
      "global_average_pooling2d_4 (Glo (None, 64)           0           conv2d_73[0][0]                  \n",
      "__________________________________________________________________________________________________\n",
      "dense_48 (Dense)                (None, 256)          16640       global_average_pooling2d_4[0][0] \n",
      "__________________________________________________________________________________________________\n",
      "dropout_24 (Dropout)            (None, 256)          0           dense_48[0][0]                   \n",
      "__________________________________________________________________________________________________\n",
      "dense_49 (Dense)                (None, 10)           2570        dropout_24[0][0]                 \n",
      "==================================================================================================\n",
      "Total params: 222,666\n",
      "Trainable params: 222,666\n",
      "Non-trainable params: 0\n",
      "__________________________________________________________________________________________________\n",
      "\n",
      "----- Train -----\n",
      "Train on 54000 samples, validate on 6000 samples\n",
      "Epoch 1/30\n",
      "54000/54000 - 15s - loss: 0.3425 - accuracy: 0.8851 - val_loss: 0.1114 - val_accuracy: 0.9692\n",
      "Epoch 2/30\n",
      "54000/54000 - 12s - loss: 0.0697 - accuracy: 0.9802 - val_loss: 0.0417 - val_accuracy: 0.9895\n",
      "Epoch 3/30\n",
      "54000/54000 - 13s - loss: 0.0499 - accuracy: 0.9864 - val_loss: 0.0372 - val_accuracy: 0.9887\n",
      "Epoch 4/30\n",
      "54000/54000 - 13s - loss: 0.0402 - accuracy: 0.9884 - val_loss: 0.0389 - val_accuracy: 0.9888\n",
      "Epoch 5/30\n",
      "54000/54000 - 14s - loss: 0.0344 - accuracy: 0.9901 - val_loss: 0.0382 - val_accuracy: 0.9887\n",
      "Epoch 6/30\n",
      "54000/54000 - 12s - loss: 0.0279 - accuracy: 0.9918 - val_loss: 0.0466 - val_accuracy: 0.9890\n",
      "Epoch 7/30\n",
      "54000/54000 - 13s - loss: 0.0241 - accuracy: 0.9932 - val_loss: 0.0408 - val_accuracy: 0.9890\n",
      "Epoch 8/30\n",
      "54000/54000 - 12s - loss: 0.0215 - accuracy: 0.9939 - val_loss: 0.0345 - val_accuracy: 0.9918\n",
      "Epoch 9/30\n",
      "54000/54000 - 11s - loss: 0.0192 - accuracy: 0.9946 - val_loss: 0.0347 - val_accuracy: 0.9910\n",
      "Epoch 10/30\n",
      "54000/54000 - 12s - loss: 0.0167 - accuracy: 0.9953 - val_loss: 0.0406 - val_accuracy: 0.9930\n",
      "Epoch 11/30\n",
      "\n",
      "Epoch 00011: ReduceLROnPlateau reducing learning rate to 0.0005000000237487257.\n",
      "54000/54000 - 10s - loss: 0.0174 - accuracy: 0.9952 - val_loss: 0.0383 - val_accuracy: 0.9897\n",
      "Epoch 12/30\n",
      "54000/54000 - 11s - loss: 0.0062 - accuracy: 0.9983 - val_loss: 0.0325 - val_accuracy: 0.9930\n",
      "Epoch 13/30\n",
      "54000/54000 - 12s - loss: 0.0047 - accuracy: 0.9986 - val_loss: 0.0500 - val_accuracy: 0.9915\n",
      "Epoch 14/30\n",
      "\n",
      "Epoch 00014: ReduceLROnPlateau reducing learning rate to 0.0002500000118743628.\n",
      "54000/54000 - 11s - loss: 0.0049 - accuracy: 0.9987 - val_loss: 0.0383 - val_accuracy: 0.9927\n",
      "Epoch 15/30\n",
      "54000/54000 - 10s - loss: 0.0018 - accuracy: 0.9994 - val_loss: 0.0382 - val_accuracy: 0.9943\n",
      "Epoch 16/30\n",
      "54000/54000 - 11s - loss: 5.6666e-04 - accuracy: 0.9999 - val_loss: 0.0517 - val_accuracy: 0.9928\n",
      "Epoch 17/30\n",
      "\n",
      "Epoch 00017: ReduceLROnPlateau reducing learning rate to 0.0001250000059371814.\n",
      "54000/54000 - 14s - loss: 0.0013 - accuracy: 0.9996 - val_loss: 0.0646 - val_accuracy: 0.9933\n",
      "Epoch 18/30\n",
      "54000/54000 - 11s - loss: 2.9511e-04 - accuracy: 0.9999 - val_loss: 0.0589 - val_accuracy: 0.9938\n",
      "Epoch 19/30\n",
      "\n",
      "Epoch 00019: ReduceLROnPlateau reducing learning rate to 6.25000029685907e-05.\n",
      "54000/54000 - 11s - loss: 1.9878e-04 - accuracy: 1.0000 - val_loss: 0.0642 - val_accuracy: 0.9943\n",
      "Epoch 20/30\n",
      "54000/54000 - 11s - loss: 8.5676e-05 - accuracy: 1.0000 - val_loss: 0.0699 - val_accuracy: 0.9942\n",
      "Epoch 21/30\n",
      "\n",
      "Epoch 00021: ReduceLROnPlateau reducing learning rate to 3.125000148429535e-05.\n",
      "54000/54000 - 12s - loss: 6.3243e-05 - accuracy: 1.0000 - val_loss: 0.0680 - val_accuracy: 0.9942\n",
      "Epoch 22/30\n",
      "\n",
      "Epoch 00022: ReduceLROnPlateau reducing learning rate to 1.5625000742147677e-05.\n",
      "54000/54000 - 10s - loss: 3.0983e-05 - accuracy: 1.0000 - val_loss: 0.0693 - val_accuracy: 0.9940\n",
      "Epoch 23/30\n",
      "\n",
      "Epoch 00023: ReduceLROnPlateau reducing learning rate to 7.812500371073838e-06.\n",
      "54000/54000 - 12s - loss: 4.2971e-05 - accuracy: 1.0000 - val_loss: 0.0728 - val_accuracy: 0.9942\n",
      "Epoch 24/30\n",
      "\n",
      "Epoch 00024: ReduceLROnPlateau reducing learning rate to 3.906250185536919e-06.\n",
      "54000/54000 - 12s - loss: 1.8359e-05 - accuracy: 1.0000 - val_loss: 0.0738 - val_accuracy: 0.9940\n",
      "Epoch 25/30\n",
      "\n",
      "Epoch 00025: ReduceLROnPlateau reducing learning rate to 1.9531250927684596e-06.\n",
      "54000/54000 - 11s - loss: 2.3254e-05 - accuracy: 1.0000 - val_loss: 0.0737 - val_accuracy: 0.9940\n",
      "Epoch 26/30\n",
      "\n",
      "Epoch 00026: ReduceLROnPlateau reducing learning rate to 9.765625463842298e-07.\n",
      "54000/54000 - 11s - loss: 1.8665e-05 - accuracy: 1.0000 - val_loss: 0.0737 - val_accuracy: 0.9942\n",
      "Epoch 27/30\n",
      "\n",
      "Epoch 00027: ReduceLROnPlateau reducing learning rate to 4.882812731921149e-07.\n",
      "54000/54000 - 13s - loss: 1.4429e-05 - accuracy: 1.0000 - val_loss: 0.0738 - val_accuracy: 0.9942\n",
      "Epoch 28/30\n",
      "\n",
      "Epoch 00028: ReduceLROnPlateau reducing learning rate to 2.4414063659605745e-07.\n",
      "54000/54000 - 13s - loss: 2.0161e-05 - accuracy: 1.0000 - val_loss: 0.0738 - val_accuracy: 0.9942\n",
      "Epoch 29/30\n",
      "\n",
      "Epoch 00029: ReduceLROnPlateau reducing learning rate to 1.2207031829802872e-07.\n",
      "54000/54000 - 10s - loss: 1.4528e-05 - accuracy: 1.0000 - val_loss: 0.0737 - val_accuracy: 0.9942\n",
      "Epoch 30/30\n",
      "\n",
      "Epoch 00030: ReduceLROnPlateau reducing learning rate to 6.103515914901436e-08.\n",
      "54000/54000 - 15s - loss: 1.0947e-05 - accuracy: 1.0000 - val_loss: 0.0737 - val_accuracy: 0.9942\n",
      "\n",
      "----- Test ------\n",
      "loss: 0.0410 acc: 0.9948\n"
     ]
    },
    {
     "data": {
      "image/png": "[encoded data removed]",
      "text/plain": [
       "<Figure size 432x288 with 1 Axes>"
      ]
     },
     "metadata": {
      "needs_background": "light"
     },
     "output_type": "display_data"
    }
   ],
   "source": [
    "model = ResNet2(data_conv)\n",
    "evaluate(model, data_conv, epochs=30)"
   ]
  }
 ],
 "metadata": {
  "kernelspec": {
   "display_name": "Python 3",
   "language": "python",
   "name": "python3"
  },
  "language_info": {
   "codemirror_mode": {
    "name": "ipython",
    "version": 3
   },
   "file_extension": ".py",
   "mimetype": "text/x-python",
   "name": "python",
   "nbconvert_exporter": "python",
   "pygments_lexer": "ipython3",
   "version": "3.6.8"
  },
  "toc": {
   "base_numbering": 1,
   "nav_menu": {},
   "number_sections": true,
   "sideBar": true,
   "skip_h1_title": false,
   "title_cell": "Table of Contents",
   "title_sidebar": "Contents",
   "toc_cell": false,
   "toc_position": {
    "height": "1068px",
    "left": "2048px",
    "top": "110px",
    "width": "238px"
   },
   "toc_section_display": true,
   "toc_window_display": false
  }
 },
 "nbformat": 4,
 "nbformat_minor": 2
}
