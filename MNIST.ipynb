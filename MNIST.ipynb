{
 "cells": [
  {
   "cell_type": "markdown",
   "metadata": {},
   "source": [
    "<h1><font size=\"+4\"><center>\n",
    "    Casos prácticos de modelado <br/>\n",
    "    mediante redes neuronales <br/>\n",
    "    usando TensorFlow<center/></font><h1/>\n",
    "    \n",
    "<img src=\"img/Ecosystem.png\" alt=\"Ecosystem\" style=\"width: 600px;\"/>"
   ]
  },
  {
   "cell_type": "code",
   "execution_count": null,
   "metadata": {
    "hide_input": true
   },
   "outputs": [],
   "source": [
    "# increase the cell width of the Jupyter notebook in the browser\n",
    "# https://stackoverflow.com/questions/21971449/how-do-i-increase-the-cell-width-of-the-jupyter-ipython-notebook-in-my-browser\n",
    "from IPython.core.display import display, HTML\n",
    "display(HTML(\"<style>.container { width:90% !important; }</style>\"))"
   ]
  },
  {
   "cell_type": "code",
   "execution_count": null,
   "metadata": {
    "hide_input": true,
    "scrolled": false
   },
   "outputs": [],
   "source": [
    "%%html\n",
    "<iframe src='http://yann.lecun.com/exdb/mnist', width=100%, height=400></iframe>"
   ]
  },
  {
   "cell_type": "markdown",
   "metadata": {},
   "source": [
    "![MNIST DataBase](https://upload.wikimedia.org/wikipedia/commons/2/27/MnistExamples.png \"MNIST DataBase\")"
   ]
  },
  {
   "cell_type": "markdown",
   "metadata": {},
   "source": [
    "## TensorFlow 2.0\n",
    "\n",
    "El código que se muestra a continuación está basado en TensorFlow 2.0. Mucho del contenido de este cuaderno está también disponible en la [Guia inicial de TensorFlow 2.0 para principiantes](https://www.tensorflow.org/tutorials/quickstart/beginner)."
   ]
  },
  {
   "cell_type": "code",
   "execution_count": null,
   "metadata": {},
   "outputs": [],
   "source": [
    "import tensorflow as tf\n",
    "tf.__version__"
   ]
  },
  {
   "cell_type": "markdown",
   "metadata": {},
   "source": [
    "## Descarga y análisis de la base de datos\n",
    "\n",
    "TensorFlow incorpora un sencillo mecanismo para descargar la Base de Datos MNIST:  "
   ]
  },
  {
   "cell_type": "code",
   "execution_count": null,
   "metadata": {},
   "outputs": [],
   "source": [
    "(x_train, y_train), (x_test, y_test) = tf.keras.datasets.mnist.load_data()"
   ]
  },
  {
   "cell_type": "markdown",
   "metadata": {},
   "source": [
    "La base de datos está compuesta por 60.000 muestras de entrenamiento (`x_train`), 10.000 de test (`x_test`) y sus correspondientes etiquetas (`y_train` e `y_test`). Cada muestra representa una imagen de 28x28 píxeles. Las muestras y las etiquetas descargadas están guardadas en arrays n-dimensionales de `numpy`:"
   ]
  },
  {
   "cell_type": "code",
   "execution_count": null,
   "metadata": {},
   "outputs": [],
   "source": [
    "for x in (x_train, y_train, x_test, y_test) :\n",
    "    print(type(x),x.shape)"
   ]
  },
  {
   "cell_type": "markdown",
   "metadata": {},
   "source": [
    "Mediante el módulo `matplotlib` podemos visualizar el contenido de las primeras 10 muestras de entrenamiento, así como sus respectivas etiquetas:"
   ]
  },
  {
   "cell_type": "code",
   "execution_count": null,
   "metadata": {},
   "outputs": [],
   "source": [
    "import matplotlib.pyplot as plt\n",
    "\n",
    "%matplotlib inline\n",
    "plt.figure()\n",
    "for i in range(10):  \n",
    "    plt.subplot(2, 5, i+1)\n",
    "    plt.title(y_train[i])\n",
    "    f = plt.imshow(x_train[i])\n",
    "    f.axes.get_xaxis().set_visible(False)\n",
    "    f.axes.get_yaxis().set_visible(False)\n",
    "plt.show()"
   ]
  },
  {
   "cell_type": "markdown",
   "metadata": {},
   "source": [
    "## Adecuación/preparación de los datos\n",
    "\n",
    "Las imágenes están compuestas por números enteros que representan una escala de grises (`0`: blanco, `255`:negro). El rango real `[0,1]` es mucho más adecuado, por lo que normalizamos los datos:"
   ]
  },
  {
   "cell_type": "code",
   "execution_count": null,
   "metadata": {},
   "outputs": [],
   "source": [
    "print(x_train.min(),x_train.max(),x_test.min(),x_test.max())\n",
    "x_train = x_train / 255\n",
    "x_test = x_test / 255\n",
    "print(x_train.min(),x_train.max(),x_test.min(),x_test.max())"
   ]
  },
  {
   "cell_type": "markdown",
   "metadata": {},
   "source": [
    "Reparticionaremos el conjunto de entrenamiento, reservando el 10% de los datos para validación (monitorización del entrenamiento):"
   ]
  },
  {
   "cell_type": "code",
   "execution_count": null,
   "metadata": {},
   "outputs": [],
   "source": [
    "from sklearn.model_selection import train_test_split\n",
    "\n",
    "x_train, x_val, y_train, y_val = train_test_split(x_train, y_train, test_size = 0.1, random_state=42)"
   ]
  },
  {
   "cell_type": "markdown",
   "metadata": {},
   "source": [
    "Agruparemos todos los datos en una única variable"
   ]
  },
  {
   "cell_type": "code",
   "execution_count": null,
   "metadata": {},
   "outputs": [],
   "source": [
    "from collections import namedtuple\n",
    "\n",
    "Data = namedtuple('Data', 'input_shape output_categories x_train y_train x_val y_val x_test y_test')\n",
    "data = Data(x_train.shape[1:], y_train.max()+1, \n",
    "            x_train, y_train, \n",
    "            x_val, y_val, \n",
    "            x_test, y_test)\n",
    "\n",
    "for name,value in zip(data._fields, data) :\n",
    "    if name == 'input_shape' or name == 'output_categories':\n",
    "        print(name,'=',value)\n",
    "    else :\n",
    "        print(name,value.shape)"
   ]
  },
  {
   "cell_type": "markdown",
   "metadata": {},
   "source": [
    "## Primer modelo: Regresión Logística Multiclase\n",
    "\n",
    "Uno de los modelos más sencillos a implementar es una regresión logística multiclase.\n",
    "\n",
    "<!--\n",
    "![alt text](img/lr.jpg)\n",
    "-->\n",
    "\n",
    "<img src=\"img/lr.jpg\" alt=\"Global Average Pooling\" style=\"width: 400px;\"/>\n",
    "\n",
    "\n",
    "El modelo se compone de:\n",
    "\n",
    "   1. `Flatten` : Conversión de las matrices $M$ de entrada de `28x28` en vectores $x$ de `784` componentes.\n",
    "   1. `Dense` :  Transformación afín $y = A \\cdot x + b$ con activación _softmax_ :\n",
    "   \n",
    "       &emsp;&emsp;&emsp;&emsp;$z_i = exp(y_i)/\\sum_{j}^{ }exp(y_j))$\n",
    "   \n"
   ]
  },
  {
   "cell_type": "code",
   "execution_count": null,
   "metadata": {},
   "outputs": [],
   "source": [
    "from tensorflow.keras.models import Sequential\n",
    "from tensorflow.keras.layers import Dense, Flatten\n",
    "\n",
    "def LR(data):\n",
    "    \n",
    "    model = Sequential()\n",
    "    \n",
    "    model.add(Flatten(input_shape=data.input_shape))\n",
    "    \n",
    "    model.add(Dense(data.output_categories, activation='softmax'))\n",
    "    \n",
    "    return model"
   ]
  },
  {
   "cell_type": "code",
   "execution_count": null,
   "metadata": {},
   "outputs": [],
   "source": [
    "model = LR(data)\n",
    "model.summary()"
   ]
  },
  {
   "cell_type": "markdown",
   "metadata": {},
   "source": [
    "La función de pérdida (`loss`) será la [entropía cruzada](https://es.wikipedia.org/wiki/Entrop%C3%ADa_cruzada), y el optimizados escogido adam ([Adaptive Moment Estimation](https://en.wikipedia.org/wiki/Stochastic_gradient_descent#Adam)). Estamos además interesados en observar el índice de acierto, o _accuracy_ :"
   ]
  },
  {
   "cell_type": "code",
   "execution_count": null,
   "metadata": {},
   "outputs": [],
   "source": [
    "model.compile(optimizer='adam', loss='sparse_categorical_crossentropy', metrics=['accuracy'])"
   ]
  },
  {
   "cell_type": "markdown",
   "metadata": {},
   "source": [
    "Ejecutaremos 5 iteraciones de entrenamiento, observando la evolución de los conjuntos de entrenamiento y validación:\n"
   ]
  },
  {
   "cell_type": "code",
   "execution_count": null,
   "metadata": {
    "scrolled": true
   },
   "outputs": [],
   "source": [
    "train = model.fit(data.x_train, data.y_train, epochs=5, validation_data = (data.x_val, data.y_val), verbose = 2)"
   ]
  },
  {
   "cell_type": "markdown",
   "metadata": {},
   "source": [
    "La variable `train` almacena (entre otras cosas) el historial de la función de coste (`loss`) y la métrica usada (`accuracy`):"
   ]
  },
  {
   "cell_type": "code",
   "execution_count": null,
   "metadata": {},
   "outputs": [],
   "source": [
    "print(train.history['loss'])\n",
    "print(train.history['val_loss'])\n",
    "print(train.history['accuracy'])\n",
    "print(train.history['val_accuracy'])"
   ]
  },
  {
   "cell_type": "markdown",
   "metadata": {},
   "source": [
    "Finalmente observamos el resultado frente al conjunto de test:"
   ]
  },
  {
   "cell_type": "code",
   "execution_count": null,
   "metadata": {
    "scrolled": true
   },
   "outputs": [],
   "source": [
    "test = model.evaluate(data.x_test, data.y_test, verbose=0)\n",
    "print(f'loss: {test[0]:.4f} acc: {test[1]:.4f}')"
   ]
  },
  {
   "cell_type": "markdown",
   "metadata": {},
   "source": [
    "Podemos representar gráficamente además la evolución de la función objetivo de entrenamiento y validación."
   ]
  },
  {
   "cell_type": "code",
   "execution_count": null,
   "metadata": {},
   "outputs": [],
   "source": [
    "from matplotlib.ticker import MaxNLocator\n",
    "\n",
    "def plot(train,test):\n",
    "    n = len(train.history['loss'])\n",
    "    x = list(range(1,n+1))\n",
    "    fig = plt.figure()\n",
    "    plt.plot(x,train.history['loss'])\n",
    "    plt.plot(x,train.history['val_loss'])\n",
    "    plt.plot(x,[test[0]]*n,linestyle=':', linewidth=4)\n",
    "    plt.title('Training')\n",
    "    plt.ylabel('loss')\n",
    "    plt.xlabel('epoch')\n",
    "    plt.legend(['train', 'val', 'test'], loc='upper right')\n",
    "    plt.show()\n",
    "    \n",
    "plot(train,test)"
   ]
  },
  {
   "cell_type": "markdown",
   "metadata": {},
   "source": [
    "En base al código anterior, creamos una función que permita simplificar la evaluación de distintos modelos:"
   ]
  },
  {
   "cell_type": "code",
   "execution_count": null,
   "metadata": {},
   "outputs": [],
   "source": [
    "import numpy as np\n",
    "import tensorflow.keras.backend as K\n",
    "\n",
    "def evaluate(model, data, optimizer='adam', epochs=10):\n",
    "    \n",
    "    model.compile(optimizer,\n",
    "              loss='sparse_categorical_crossentropy',\n",
    "              metrics=['accuracy'])\n",
    "\n",
    "    if len(model.layers) <= 15 :\n",
    "        model.summary()\n",
    "    else :\n",
    "        print(f'Skipping model Summary... it has {len(model.layers)} Layers!')\n",
    "        tr = np.sum([K.count_params(w) for w in model.trainable_weights])\n",
    "        ntr = np.sum([K.count_params(w) for w in model.non_trainable_weights])\n",
    "        print(f'Total params: {tr+ntr}')\n",
    "        print(f'Trainable params: {tr}')\n",
    "        print(f'Non-trainable params: {ntr}')       \n",
    "    \n",
    "    print('\\n----- Train -----')\n",
    "    train = model.fit(data.x_train, data.y_train,\n",
    "                        epochs=epochs, validation_data = (data.x_val, data.y_val),\n",
    "                        verbose = 2)\n",
    "    print('\\n----- Test ------')\n",
    "    test = model.evaluate(data.x_test,  data.y_test, verbose=0)\n",
    "    print(f'loss: {test[0]:.4f} acc: {test[1]:.4f}')\n",
    "    \n",
    "    plot(train,test)"
   ]
  },
  {
   "cell_type": "markdown",
   "metadata": {},
   "source": [
    "La evaluación de un modelo LR será:"
   ]
  },
  {
   "cell_type": "code",
   "execution_count": null,
   "metadata": {},
   "outputs": [],
   "source": [
    "model = LR(data)\n",
    "evaluate(model, data)"
   ]
  },
  {
   "cell_type": "markdown",
   "metadata": {},
   "source": [
    "## Red neuronal con una capa oculta\n",
    "\n",
    "![alt text](img/nn.png)\n",
    "\n",
    "Podemos añadir una capa oculta del tamaño que deseemos..."
   ]
  },
  {
   "cell_type": "code",
   "execution_count": null,
   "metadata": {},
   "outputs": [],
   "source": [
    "def NN(data, hidden, activation='relu'):\n",
    "\n",
    "    model = Sequential()\n",
    "    \n",
    "    model.add(Flatten(input_shape=data.input_shape))\n",
    "    \n",
    "    model.add(Dense(hidden, activation=activation))\n",
    "\n",
    "    model.add(Dense(data.output_categories, activation='softmax'))\n",
    "    \n",
    "    return model"
   ]
  },
  {
   "cell_type": "code",
   "execution_count": null,
   "metadata": {
    "scrolled": false
   },
   "outputs": [],
   "source": [
    "evaluate(NN(data, hidden=100), data)"
   ]
  },
  {
   "cell_type": "code",
   "execution_count": null,
   "metadata": {},
   "outputs": [],
   "source": [
    "evaluate(NN(data, hidden=200), data)"
   ]
  },
  {
   "cell_type": "code",
   "execution_count": null,
   "metadata": {},
   "outputs": [],
   "source": [
    "evaluate(NN(data, hidden=300), data)"
   ]
  },
  {
   "cell_type": "code",
   "execution_count": null,
   "metadata": {},
   "outputs": [],
   "source": [
    "evaluate(NN(data, hidden=1000), data)"
   ]
  },
  {
   "cell_type": "markdown",
   "metadata": {},
   "source": [
    "## DNN - Deep Neural Network\n",
    "\n",
    "![alt text](img/dnn.png)\n",
    "\n",
    "Una DNN no es sino una NN conpuesta por múltiples capas ocultas. Podemos añadir tantas capas densas como deseemos...\n"
   ]
  },
  {
   "cell_type": "code",
   "execution_count": null,
   "metadata": {},
   "outputs": [],
   "source": [
    "def DNN(data, hidden=(), activation='relu'):\n",
    "\n",
    "    model = Sequential()\n",
    "    \n",
    "    model.add(Flatten(input_shape=data.input_shape))\n",
    "\n",
    "    for h in hidden :\n",
    "        model.add(Dense(h, activation=activation))\n",
    "        \n",
    "    model.add(Dense(data.output_categories, activation='softmax'))\n",
    "    \n",
    "    return model"
   ]
  },
  {
   "cell_type": "code",
   "execution_count": null,
   "metadata": {},
   "outputs": [],
   "source": [
    "model = DNN(data, hidden=(100,100,100,100,100))\n",
    "evaluate(model, data)"
   ]
  },
  {
   "cell_type": "code",
   "execution_count": null,
   "metadata": {},
   "outputs": [],
   "source": [
    "model = DNN(data, hidden=(1024,1024,1024,1024,1024))\n",
    "evaluate(model, data)"
   ]
  },
  {
   "cell_type": "markdown",
   "metadata": {},
   "source": [
    "## Dropout - Evitando el sobreentrenamiento\n",
    "\n",
    "Se trata de una sencilla y (a veces) efectiva regularización que desconecta aleatoriamente las neuronas durante el entrenamiento.\n",
    "\n",
    "\n",
    "<!--\n",
    "![alt text](img/dropout.png)\n",
    "-->\n",
    "\n",
    "<img src=\"img/dropout.png\" alt=\"Global Average Pooling\" style=\"width: 600px;\"/>"
   ]
  },
  {
   "cell_type": "code",
   "execution_count": null,
   "metadata": {},
   "outputs": [],
   "source": [
    "from tensorflow.keras.layers import Dropout\n",
    "    \n",
    "def DNN(data, hidden=(), activation='relu', dropout=0.2):\n",
    "\n",
    "    model = Sequential()\n",
    "    \n",
    "    model.add(Flatten(input_shape=data.input_shape))\n",
    "\n",
    "    for h in hidden :\n",
    "        model.add(Dense(h, activation=activation))\n",
    "        if dropout :\n",
    "            model.add(Dropout(dropout))\n",
    "        \n",
    "    model.add(Dense(data.output_categories, activation='softmax'))\n",
    "    \n",
    "    return model"
   ]
  },
  {
   "cell_type": "code",
   "execution_count": null,
   "metadata": {},
   "outputs": [],
   "source": [
    "model = DNN(data, hidden=(1024,1024,1024,1024,1024))\n",
    "evaluate(model, data)"
   ]
  },
  {
   "cell_type": "markdown",
   "metadata": {},
   "source": [
    "No obstante, a menudo un modelo con menor número de parámetros puede tener un comportamiento más que aceptable"
   ]
  },
  {
   "cell_type": "code",
   "execution_count": null,
   "metadata": {},
   "outputs": [],
   "source": [
    "model = DNN(data, hidden=(128,64,32))\n",
    "evaluate(model, data)"
   ]
  },
  {
   "cell_type": "code",
   "execution_count": null,
   "metadata": {
    "scrolled": false
   },
   "outputs": [],
   "source": [
    "model = DNN(data, hidden=(300,))\n",
    "evaluate(model, data)"
   ]
  },
  {
   "cell_type": "markdown",
   "metadata": {},
   "source": [
    "## Redes Convolucionales\n",
    "\n",
    "Una capa convolucional aplica un conjunto de kernels (filtros) que son convolucionados frente a la entrada. El resultado es un `3D-array`. \n",
    "\n",
    "![alt text](img/cnn.png)"
   ]
  },
  {
   "cell_type": "markdown",
   "metadata": {},
   "source": [
    "Para poder usar las capas convolutivas, hay que agregar una dimensión más a los datos."
   ]
  },
  {
   "cell_type": "code",
   "execution_count": null,
   "metadata": {},
   "outputs": [],
   "source": [
    "# Agrega una dimension de canal\n",
    "data_conv = Data(\n",
    "    data.input_shape+(1,), data.output_categories,\n",
    "    data.x_train[..., tf.newaxis], data.y_train,\n",
    "    data.x_val[..., tf.newaxis], data.y_val,\n",
    "    data.x_test[..., tf.newaxis], data.y_test\n",
    ")\n",
    "for name,value in zip(dataConv._fields, dataConv) :\n",
    "    if name == 'input_shape' or name == 'output_categories':\n",
    "        print(name,'=',value)\n",
    "    else :\n",
    "        print(name,value.shape)"
   ]
  },
  {
   "cell_type": "code",
   "execution_count": null,
   "metadata": {},
   "outputs": [],
   "source": [
    "from tensorflow.keras.layers import Conv2D, MaxPool2D\n",
    "\n",
    "def CNN(data, activation='relu'):\n",
    "    \n",
    "    model = Sequential()\n",
    "    \n",
    "    model.add(Conv2D(filters=32, kernel_size=3, padding='same', activation=activation, input_shape=data.input_shape))\n",
    "    model.add(MaxPool2D(pool_size=(2,2)))\n",
    "    \n",
    "    model.add(Conv2D(filters=32, kernel_size=3, padding='same', activation=activation))\n",
    "    model.add(MaxPool2D(pool_size=(2,2)))\n",
    "    \n",
    "    model.add(Conv2D(filters=64, kernel_size=3, padding='same', activation=activation))\n",
    "    model.add(MaxPool2D(pool_size=(2,2)))\n",
    "\n",
    "    model.add(Flatten())\n",
    "    model.add(Dense(data.output_categories, activation='softmax'))\n",
    "    \n",
    "    return model"
   ]
  },
  {
   "cell_type": "code",
   "execution_count": null,
   "metadata": {
    "scrolled": false
   },
   "outputs": [],
   "source": [
    "model = CNN(data_conv)\n",
    "evaluate(model, data_conv)"
   ]
  },
  {
   "cell_type": "markdown",
   "metadata": {},
   "source": [
    "## Pero... y el _dropout_ ?\n",
    "\n",
    "* [Don’t Use Dropout in Convolutional Networks](https://www.kdnuggets.com/2018/09/dropout-convolutional-networks.html), use BatchNormalization instead.\n",
    "   * Parece ser que la regularización mediante _dropout_ no es muy adecuada para las CNN\n",
    "* `BatchNormalization`: Normaliza (**solo** durante el entrenamiento) la media y varianza de los datos de entrada (por batch).\n",
    "\n",
    "La normalización suele ser aplicada antes de la función de activación, por lo que hay que separar a esta última de la capa de convolución."
   ]
  },
  {
   "cell_type": "code",
   "execution_count": null,
   "metadata": {},
   "outputs": [],
   "source": [
    "from tensorflow.keras.layers import Activation, BatchNormalization\n",
    "\n",
    "def CNNbnorm(data, activation='relu'):\n",
    "    \n",
    "    model = Sequential()\n",
    "    \n",
    "    model.add(Conv2D(filters=32, kernel_size=3, padding='same', input_shape=data.input_shape))\n",
    "    model.add(BatchNormalization())\n",
    "    model.add(Activation(activation))\n",
    "    model.add(MaxPool2D(pool_size=(2,2)))\n",
    "    \n",
    "    model.add(Conv2D(filters=32, kernel_size=3, padding='same'))\n",
    "    model.add(BatchNormalization())\n",
    "    model.add(Activation(activation))\n",
    "    model.add(MaxPool2D(pool_size=(2,2)))\n",
    "    \n",
    "    model.add(Conv2D(filters=64, kernel_size=3, padding='same'))\n",
    "    model.add(BatchNormalization())\n",
    "    model.add(Activation(activation))\n",
    "    model.add(MaxPool2D(pool_size=(2,2)))\n",
    "\n",
    "    model.add(Flatten())\n",
    "    model.add(Dense(data.output_categories, activation='softmax'))\n",
    "    \n",
    "    return model"
   ]
  },
  {
   "cell_type": "code",
   "execution_count": null,
   "metadata": {
    "scrolled": false
   },
   "outputs": [],
   "source": [
    "model = CNNbnorm(data_conv)\n",
    "evaluate(model, data_conv)"
   ]
  },
  {
   "cell_type": "markdown",
   "metadata": {},
   "source": [
    "Personalmente... sigue pareciéndome más efectivo el dropout..."
   ]
  },
  {
   "cell_type": "code",
   "execution_count": null,
   "metadata": {},
   "outputs": [],
   "source": [
    "from tensorflow.keras.layers import Conv2D\n",
    "\n",
    "def CNNdropout(data, activation='relu', dropout=0.2):\n",
    "    \n",
    "    model = Sequential()\n",
    "    \n",
    "    model.add(Conv2D(filters=32, kernel_size=3, padding='same', activation=activation, input_shape=data.input_shape))\n",
    "    model.add(MaxPool2D(pool_size=(2,2)))\n",
    "    model.add(Dropout(dropout))\n",
    "    \n",
    "    model.add(Conv2D(filters=32, kernel_size=3, padding='same', activation=activation))\n",
    "    model.add(MaxPool2D(pool_size=(2,2)))\n",
    "    model.add(Dropout(dropout))\n",
    "    \n",
    "    model.add(Conv2D(filters=64, kernel_size=3, padding='same', activation=activation))\n",
    "    model.add(MaxPool2D(pool_size=(2,2)))\n",
    "    model.add(Dropout(dropout))\n",
    "\n",
    "    model.add(Flatten())\n",
    "    model.add(Dense(data.output_categories, activation='softmax'))\n",
    "    \n",
    "    return model"
   ]
  },
  {
   "cell_type": "code",
   "execution_count": null,
   "metadata": {
    "scrolled": false
   },
   "outputs": [],
   "source": [
    "model = CNNdropout(data_conv)\n",
    "evaluate(model, data_conv)"
   ]
  },
  {
   "cell_type": "markdown",
   "metadata": {},
   "source": [
    "## Global-average-pooling\n",
    "\n",
    "Las redes convolucioinales deben terminar en una capa densa con activación _softmax_. La última capa densa debe conectarse a otra capa densa, que normalmente será el resultado de aplanar (`Flatten`) la última capa convolucional. La capa `GlobalAveragePooling2D` realiza un promedio de los canales de la capa convolucional anterior, resultando en un vector cuya dimensión es igual al número de canales. El resultado es una reducción sustancial en el número de parámetros del modelo. \n",
    "\n",
    "\n",
    "<!--\n",
    "![alt text](img/gap.png)\n",
    "-->\n",
    "\n",
    "<img src=\"img/gap.png\" alt=\"Global Average Pooling\" style=\"width: 1200px;\"/>\n",
    "\n",
    "* https://adventuresinmachinelearning.com/global-average-pooling-convolutional-neural-networks/\n",
    "\n",
    "\n",
    " "
   ]
  },
  {
   "cell_type": "code",
   "execution_count": null,
   "metadata": {},
   "outputs": [],
   "source": [
    "from tensorflow.keras.layers import GlobalAveragePooling2D\n",
    "\n",
    "def CNNgap(data, activation='relu',dropout=0.2):\n",
    "    \n",
    "    model = Sequential()\n",
    "    \n",
    "    model.add(Conv2D(filters=32, kernel_size=3, padding='same', activation=activation, input_shape=data.input_shape))\n",
    "    model.add(MaxPool2D(pool_size=(2,2)))\n",
    "    model.add(Dropout(dropout))\n",
    "    \n",
    "    model.add(Conv2D(filters=32, kernel_size=3, padding='same', activation=activation))\n",
    "    model.add(MaxPool2D(pool_size=(2,2)))\n",
    "    model.add(Dropout(dropout))\n",
    "    \n",
    "    model.add(Conv2D(filters=64, kernel_size=3, padding='same', activation=activation))\n",
    "    model.add(MaxPool2D(pool_size=(2,2)))\n",
    "    model.add(Dropout(dropout))\n",
    "        \n",
    "    model.add(GlobalAveragePooling2D())\n",
    "    model.add(Dense(data.output_categories, activation='softmax'))\n",
    "    \n",
    "    return model"
   ]
  },
  {
   "cell_type": "code",
   "execution_count": null,
   "metadata": {
    "scrolled": false
   },
   "outputs": [],
   "source": [
    "model = CNNgap(data_conv)\n",
    "evaluate(model, data_conv, epochs=20)"
   ]
  },
  {
   "cell_type": "markdown",
   "metadata": {},
   "source": [
    "## Reproduciendo resultados ajenos\n",
    "\n",
    "* https://www.kaggle.com/yassineghouzam/introduction-to-cnn-keras-0-997-top-6\n",
    "* https://www.kaggle.com/adityaecdrid/mnist-with-keras-for-beginners-99457\n",
    "\n",
    "Primero el modelo:"
   ]
  },
  {
   "cell_type": "code",
   "execution_count": null,
   "metadata": {},
   "outputs": [],
   "source": [
    "from tensorflow.keras.optimizers import RMSprop\n",
    "\n",
    "def XModel(data):\n",
    "\n",
    "    model = Sequential()\n",
    "\n",
    "    model.add(Conv2D(filters = 32, kernel_size = (5,5), padding = 'Same', activation ='relu', input_shape=data.input_shape))\n",
    "    model.add(Conv2D(filters = 32, kernel_size = (5,5), padding = 'Same', activation ='relu'))\n",
    "    model.add(MaxPool2D(pool_size=(2,2)))\n",
    "    model.add(Dropout(0.25))\n",
    "    \n",
    "    model.add(Conv2D(filters = 64, kernel_size = (3,3), padding = 'Same', activation ='relu'))\n",
    "    model.add(Conv2D(filters = 64, kernel_size = (3,3), padding = 'Same', activation ='relu'))\n",
    "    model.add(MaxPool2D(pool_size=(2,2), strides=(2,2)))\n",
    "    model.add(Dropout(0.25))\n",
    "\n",
    "    model.add(Flatten())\n",
    "    model.add(Dense(256, activation = \"relu\"))\n",
    "    model.add(Dropout(0.3))\n",
    "    model.add(Dense(data.output_categories, activation='softmax'))\n",
    "    \n",
    "    return model"
   ]
  },
  {
   "cell_type": "markdown",
   "metadata": {},
   "source": [
    "A menudo el parámetro _learning-rate_ suele ser modificado _online_ para adaptarse al entrenamiento. Una estrategia sencilla es reducirlo si la función objetivo no decrece:"
   ]
  },
  {
   "cell_type": "code",
   "execution_count": null,
   "metadata": {},
   "outputs": [],
   "source": [
    "from tensorflow.keras.callbacks import ReduceLROnPlateau\n",
    "\n",
    "#reduce the LR by half if the training loss is not improved after 1 epochs.\n",
    "learning_rate_reduction = ReduceLROnPlateau(monitor='loss', \n",
    "                                            patience=1, \n",
    "                                            verbose=1, \n",
    "                                            factor=0.5, \n",
    "                                            min_lr=1e-10)"
   ]
  },
  {
   "cell_type": "markdown",
   "metadata": {},
   "source": [
    "Añadimos la reducción del learning-rate a los _callbacks_ del entrenamiento: "
   ]
  },
  {
   "cell_type": "code",
   "execution_count": null,
   "metadata": {},
   "outputs": [],
   "source": [
    "def evaluate(model, data, optimizer='adam', epochs=10):\n",
    "    \n",
    "    model.compile(optimizer,\n",
    "              loss='sparse_categorical_crossentropy',\n",
    "              metrics=['accuracy'])\n",
    "\n",
    "    if len(model.layers) <= 15 :\n",
    "        model.summary()\n",
    "    else :\n",
    "        print(f'Skipping model Summary... it has {len(model.layers)} Layers!')\n",
    "        tr = np.sum([K.count_params(w) for w in model.trainable_weights])\n",
    "        ntr = np.sum([K.count_params(w) for w in model.non_trainable_weights])\n",
    "        print(f'Total params: {tr+ntr}')\n",
    "        print(f'Trainable params: {tr}')\n",
    "        print(f'Non-trainable params: {ntr}')        \n",
    "    \n",
    "    print('\\n----- Train -----')\n",
    "    train = model.fit(data.x_train, data.y_train,\n",
    "                        epochs=epochs, validation_data = (data.x_val, data.y_val),\n",
    "                        verbose = 2, callbacks=[learning_rate_reduction])\n",
    "    print('\\n----- Test ------')\n",
    "    test = model.evaluate(data.x_test,  data.y_test, verbose=0)\n",
    "    print(f'loss: {test[0]:.4f} acc: {test[1]:.4f}')\n",
    "    \n",
    "    plot(train,test)"
   ]
  },
  {
   "cell_type": "markdown",
   "metadata": {},
   "source": [
    "Evaluamos el modelo, usando un optimizador _RMSprop_ en vez de _Adam_ (por defecto):"
   ]
  },
  {
   "cell_type": "code",
   "execution_count": null,
   "metadata": {
    "scrolled": false
   },
   "outputs": [],
   "source": [
    "optimizer = RMSprop(lr=0.001, rho=0.9, epsilon=1e-08, decay=0.0)\n",
    "model = XModel(data_conv)\n",
    "evaluate(model, data_conv, optimizer=optimizer, epochs=30)"
   ]
  },
  {
   "cell_type": "markdown",
   "metadata": {},
   "source": [
    "## La Red Residual (Residual Network, ResNet)\n",
    "\n",
    " * http://personal.cimat.mx:8181/~mrivera/cursos/aprendizaje_profundo/resnet/resnet.html\n",
    " * https://en.wikipedia.org/wiki/Residual_neural_network\n",
    "\n",
    "Una Red Residual o _ResNet_ contiene conexiones ( _skip connections_ o _shortcuts_ ) que interconectan la salida de una capa con la entrada de una capa no necesariamente contigua, saltando capas intermedias:\n",
    "\n",
    "<img src=\"img/ResNet.png\" alt=\"Residual Network\" style=\"width: 200px;\"/>\n",
    "\n",
    "De una manera conceptual, en la fase inicial del entrenamiento la red es guiada por las conexiones cortocircuito, mientras que según avanza el entrenamiento las capas cortocircuitadas comienzan a aportar, compensando a su vez la aportación del cortocircuito.\n",
    "\n",
    "### Características:\n",
    "\n",
    "   * Mitiga el problema del _desvanecimiento de gradiente_\n",
    "   * Acelera el entrenamiento\n",
    "   * Permite entrenar redes muy profundas (más de 100 capas)"
   ]
  },
  {
   "cell_type": "markdown",
   "metadata": {},
   "source": [
    "### ResNet identidad\n",
    "\n",
    "Configuración típica:\n",
    "\n",
    "   * Capas convolucionales\n",
    "   * Puente de 2/3 capas\n",
    "   * El cortocircuito se añade antes de la no linealidad\n",
    "\n",
    "<img src=\"img/resnet_identidad.png\" alt=\"resnet identidad\" style=\"width: 400px;\"/>"
   ]
  },
  {
   "cell_type": "markdown",
   "metadata": {},
   "source": [
    "### ResNet convolucional\n",
    "\n",
    "Configuración típica:\n",
    "\n",
    "   * Capas convolucionales\n",
    "   * Puente de 2/3 capas\n",
    "   * El cortocircuito se añade antes de la no linealidad\n",
    "   * Las dimensiones no coinciden.\n",
    "      * Se añade una capa convolucional al cortocircuito\n",
    "      * No se añade no linealidad\n",
    "\n",
    "<img src=\"img/resnet_conv.png\" alt=\"resnet_conv\" style=\"width: 400px;\"/>\n"
   ]
  },
  {
   "cell_type": "markdown",
   "metadata": {},
   "source": [
    "### RestNet50\n",
    "<img src=\"img/resnet50.png\" alt=\"resnet50\" style=\"width: 800px;\"/>"
   ]
  },
  {
   "cell_type": "markdown",
   "metadata": {},
   "source": [
    "### ImageNet Challenge\n",
    "\n",
    "* Detección de 1000 categorías de objetos en imágenes\n",
    "\n",
    "|    Red    |  Año | Capas | % Error |\n",
    "|:---------:|:----:|:-----:|:-------:|\n",
    "|  AlexNet  | 2013 |   8   |   11.7  |\n",
    "|    VGG    | 2014 |   19  |   7.3   |\n",
    "| Inception | 2014 |   22  |   6.7   |\n",
    "|   ResNet  | 2015 |  152  |   3.6   |\n"
   ]
  },
  {
   "cell_type": "markdown",
   "metadata": {},
   "source": [
    "### Implementación de una RestNet\n",
    "* No es una red secuencial\n",
    "* No podemos implementarla mediante `tensorflow.keras.models.Sequential`\n",
    "* TensorFlow permite una descripción *funcional* del modelo\n",
    "    * Muy similar a lo visto previamente\n",
    "    * Mayor livertad de diseño"
   ]
  },
  {
   "cell_type": "markdown",
   "metadata": {},
   "source": [
    "### Logistic Regression - Functional API\n",
    "\n",
    "Implementación previa (`Sequential`):\n",
    "\n",
    "```python\n",
    "def LR(data):    \n",
    "    model = Sequential()  \n",
    "    model.add(Flatten(input_shape=data.input_shape))\n",
    "    model.add(Dense(data.output_categories, activation='softmax'))\n",
    "    return model\n",
    "```\n",
    "\n",
    "Implementación funcional:"
   ]
  },
  {
   "cell_type": "code",
   "execution_count": null,
   "metadata": {},
   "outputs": [],
   "source": [
    "from tensorflow.keras import Input, Model\n",
    "\n",
    "def LR(data):\n",
    "\n",
    "    x_input = Input(shape=data.input_shape)\n",
    "\n",
    "    x = Flatten()(x_input)\n",
    "    x = Dense(data.output_categories, activation='softmax')(x)\n",
    "    \n",
    "    return Model(x_input, x)"
   ]
  },
  {
   "cell_type": "code",
   "execution_count": null,
   "metadata": {},
   "outputs": [],
   "source": [
    "model = LR(data)\n",
    "evaluate(model, data, epochs=10)"
   ]
  },
  {
   "cell_type": "markdown",
   "metadata": {},
   "source": [
    "### DNN - Functional API\n",
    "\n",
    "Implementación previa (`Sequential`):\n",
    "\n",
    "```python\n",
    "def DNN(data, hidden=(), activation='relu', dropout=0.2):\n",
    "    model = Sequential()\n",
    "    model.add(Flatten(input_shape=data.input_shape))\n",
    "    for h in hidden :\n",
    "        model.add(Dense(h, activation=activation))\n",
    "        if dropout :\n",
    "            model.add(Dropout(dropout))\n",
    "    model.add(Dense(data.output_categories, activation='softmax'))\n",
    "    return model\n",
    "```\n",
    "\n",
    "Implementación funcional:"
   ]
  },
  {
   "cell_type": "code",
   "execution_count": null,
   "metadata": {},
   "outputs": [],
   "source": [
    "from tensorflow.keras.layers import Dropout\n",
    "    \n",
    "def DNN(data, hidden=(), activation='relu', dropout=0.2):\n",
    "\n",
    "    x_input = Input(shape=data.input_shape)\n",
    "\n",
    "    x = Flatten()(x_input)\n",
    "    for h in hidden :\n",
    "        x = Dense(h, activation=activation)(x)\n",
    "        if dropout :\n",
    "            x = Dropout(dropout)(x)\n",
    "    x = Dense(data.output_categories, activation='softmax')(x)\n",
    "    \n",
    "    return Model(x_input, x)"
   ]
  },
  {
   "cell_type": "code",
   "execution_count": null,
   "metadata": {},
   "outputs": [],
   "source": [
    "model = DNN(data, hidden=(128,64,32))\n",
    "evaluate(model, data)"
   ]
  },
  {
   "cell_type": "markdown",
   "metadata": {},
   "source": [
    "### CNN - Functional API\n",
    "\n",
    "Implementación previa (`Sequential`):\n",
    "\n",
    "```python\n",
    "def CNN(data, activation='relu',dropout=0.2):\n",
    "    \n",
    "    model = Sequential()\n",
    "    \n",
    "    model.add(Conv2D(filters=32, kernel_size=3, padding='same', activation=activation, input_shape=data.input_shape))\n",
    "    model.add(MaxPool2D(pool_size=(2,2)))\n",
    "    model.add(Dropout(dropout))\n",
    "    \n",
    "    model.add(Conv2D(filters=32, kernel_size=3, padding='same', activation=activation))\n",
    "    model.add(MaxPool2D(pool_size=(2,2)))\n",
    "    model.add(Dropout(dropout))\n",
    "    \n",
    "    model.add(Conv2D(filters=64, kernel_size=3, padding='same', activation=activation))\n",
    "    model.add(MaxPool2D(pool_size=(2,2)))\n",
    "    model.add(Dropout(dropout))\n",
    "        \n",
    "    model.add(GlobalAveragePooling2D())\n",
    "    model.add(Dense(data.output_categories, activation='softmax'))\n",
    "    \n",
    "    return model\n",
    "```\n",
    "\n",
    "Implementación funcional:"
   ]
  },
  {
   "cell_type": "code",
   "execution_count": null,
   "metadata": {},
   "outputs": [],
   "source": [
    "def CNN(data, activation='relu',dropout=0.2):\n",
    "    \n",
    "    x_input = Input(shape=data.input_shape)\n",
    "\n",
    "    x = Conv2D(filters=32, kernel_size=3, padding='same', activation=activation)(x_input)\n",
    "    x = MaxPool2D(pool_size=(2,2))(x)\n",
    "    x = Dropout(dropout)(x)\n",
    "    \n",
    "    x = Conv2D(filters=32, kernel_size=3, padding='same', activation=activation)(x)\n",
    "    x = MaxPool2D(pool_size=(2,2))(x)\n",
    "    x = Dropout(dropout)(x)\n",
    "    \n",
    "    x = Conv2D(filters=64, kernel_size=3, padding='same', activation=activation)(x)\n",
    "    x = MaxPool2D(pool_size=(2,2))(x)\n",
    "    x = Dropout(dropout)(x)\n",
    "        \n",
    "    x = GlobalAveragePooling2D()(x)\n",
    "    x = Dense(data.output_categories, activation='softmax')(x)\n",
    "    \n",
    "    return Model(x_input, x)"
   ]
  },
  {
   "cell_type": "code",
   "execution_count": null,
   "metadata": {},
   "outputs": [],
   "source": [
    "model = CNNgap(data_conv)\n",
    "evaluate(model, data_conv, epochs=20)"
   ]
  },
  {
   "cell_type": "markdown",
   "metadata": {},
   "source": [
    "### RestNet - Functional API (no hay otra...)\n"
   ]
  },
  {
   "cell_type": "code",
   "execution_count": null,
   "metadata": {},
   "outputs": [],
   "source": [
    "from tensorflow.keras.layers import Add\n",
    "\n",
    "def ResNet(data,n=1):\n",
    "\n",
    "    x_input = Input(shape=data.input_shape)\n",
    "    \n",
    "    x = Conv2D(filters = 32, kernel_size = (5,5), padding = 'Same')(x_input)\n",
    "    x = BatchNormalization()(x)\n",
    "    x = Activation(activation='relu')(x)\n",
    "\n",
    "    for i in range(n):\n",
    "        x_id = x\n",
    "        x = Conv2D(filters = 32, kernel_size = (5,5), padding = 'Same')(x_input)\n",
    "        x = BatchNormalization()(x)\n",
    "        x = Activation(activation='relu')(x)\n",
    "        x = Conv2D(filters = 32, kernel_size = (5,5), padding = 'Same')(x)\n",
    "        x = BatchNormalization()(x)\n",
    "        x = Add()([x, x_id])\n",
    "        x = Activation(activation='relu')(x)\n",
    "    x = MaxPool2D(pool_size=(2,2))(x)\n",
    "    \n",
    "    x = Conv2D(filters = 64, kernel_size = (3,3), padding = 'Same')(x)\n",
    "    x = BatchNormalization()(x)\n",
    "    x = Activation(activation='relu')(x)\n",
    "\n",
    "    for i in range(n):\n",
    "        x_id = x\n",
    "        x = Conv2D(filters = 64, kernel_size = (3,3), padding = 'Same')(x)\n",
    "        x = BatchNormalization()(x)\n",
    "        x = Activation(activation='relu')(x)\n",
    "        x = Conv2D(filters = 64, kernel_size = (3,3), padding = 'Same')(x)\n",
    "        x = BatchNormalization()(x)\n",
    "        x = Add()([x, x_id])\n",
    "        x = Activation(activation='relu')(x)\n",
    "    x = MaxPool2D(pool_size=(2,2), strides=(2,2))(x)\n",
    "\n",
    "    x = GlobalAveragePooling2D()(x)\n",
    "    \n",
    "    x = Dense(data.output_categories, activation = \"softmax\")(x)    \n",
    "\n",
    "    return Model(x_input, x)"
   ]
  },
  {
   "cell_type": "code",
   "execution_count": null,
   "metadata": {},
   "outputs": [],
   "source": [
    "model = ResNet(data_conv)\n",
    "#model.summary()\n",
    "evaluate(model, data_conv, epochs=20)"
   ]
  },
  {
   "cell_type": "code",
   "execution_count": null,
   "metadata": {},
   "outputs": [],
   "source": [
    "model = ResNet(data_conv,n=10)\n",
    "evaluate(model, data_conv, epochs=30)"
   ]
  },
  {
   "cell_type": "code",
   "execution_count": null,
   "metadata": {},
   "outputs": [],
   "source": [
    "def ResNet2(data):\n",
    "    \n",
    "    x_input = Input(shape=data.input_shape)\n",
    "    \n",
    "    x = Conv2D(32, 3, activation='relu')(x_input)\n",
    "    x = Conv2D(64, 3, activation='relu')(x)\n",
    "    block_1_output = MaxPool2D(3)(x)\n",
    "\n",
    "    x = Conv2D(64, 3, activation='relu', padding='same')(block_1_output)\n",
    "    x = Conv2D(64, 3, activation='relu', padding='same')(x)\n",
    "    block_2_output = Add()([x, block_1_output])\n",
    "\n",
    "    x = Conv2D(64, 3, activation='relu', padding='same')(block_2_output)\n",
    "    x = Conv2D(64, 3, activation='relu', padding='same')(x)\n",
    "    block_3_output = Add()([x, block_2_output])\n",
    "\n",
    "    x = Conv2D(64, 3, activation='relu')(block_3_output)\n",
    "    x = GlobalAveragePooling2D()(x)\n",
    "    \n",
    "    x = Dense(256, activation='relu')(x)\n",
    "    x = Dropout(0.5)(x)    \n",
    "    x = Dense(data.output_categories, activation = \"softmax\")(x)    \n",
    "\n",
    "    return Model(x_input, x)"
   ]
  },
  {
   "cell_type": "code",
   "execution_count": null,
   "metadata": {
    "scrolled": true
   },
   "outputs": [],
   "source": [
    "model = ResNet2(data_conv)\n",
    "evaluate(model, data_conv, epochs=30)"
   ]
  }
 ],
 "metadata": {
  "kernelspec": {
   "display_name": "Python 3",
   "language": "python",
   "name": "python3"
  },
  "language_info": {
   "codemirror_mode": {
    "name": "ipython",
    "version": 3
   },
   "file_extension": ".py",
   "mimetype": "text/x-python",
   "name": "python",
   "nbconvert_exporter": "python",
   "pygments_lexer": "ipython3",
   "version": "3.6.8"
  },
  "toc": {
   "base_numbering": 1,
   "nav_menu": {},
   "number_sections": true,
   "sideBar": true,
   "skip_h1_title": false,
   "title_cell": "Table of Contents",
   "title_sidebar": "Contents",
   "toc_cell": false,
   "toc_position": {
    "height": "1068px",
    "left": "2048px",
    "top": "110px",
    "width": "238px"
   },
   "toc_section_display": true,
   "toc_window_display": false
  }
 },
 "nbformat": 4,
 "nbformat_minor": 2
}
